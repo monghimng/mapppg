{
 "metadata": {
  "name": "",
  "signature": "sha256:bd7433c4dc19b34d87176aa17b923445a3fce04fde9f3e184c043602baaa3535"
 },
 "nbformat": 3,
 "nbformat_minor": 0,
 "worksheets": [
  {
   "cells": [
    {
     "cell_type": "code",
     "collapsed": false,
     "input": [
      "import os\n",
      "fileList = os.listdir(os.getcwd()+\"/videos\")\n",
      "mp4List = [fileName  for fileName in fileList if fileName.endswith(\".mp4\")]\n",
      "for mp4 in mp4List:\n",
      "    print mp4\n",
      "    \n",
      "import cv2\n",
      "import numpy\n",
      "import matplotlib.pyplot as plt\n",
      "%matplotlib inline\n",
      "\n",
      "def writeToFile(fileName, rL, gL, bL):\n",
      "    l = [rL, gL, bL]\n",
      "    numpy.savetxt(fileName, l)\n",
      "\n",
      "def convertVideoToRGBFile(videoName):\n",
      "    video = cv2.VideoCapture(+\"/map\"+videoName+'.mp4')\n",
      "    ret, frame = video.read()\n",
      "    width = int(video.get(3))\n",
      "    height = int(video.get(4))\n",
      "    fps = video.get(5)\n",
      "    vLen = int(video.get(7))/fps\n",
      "    print 'Video Width: ', width, 'px'\n",
      "    print 'Video Height: ', height, 'px'\n",
      "    print 'Video FPS: ', fps, 'frame per second'\n",
      "    print 'Video Length: ', vLen, 's'\n",
      "    rL = list()\n",
      "    gL = list()\n",
      "    bL = list()\n",
      "    i = 0\n",
      "    while True:\n",
      "        hasFrame, r, g, b = readFrame()\n",
      "        if not hasFrame:\n",
      "            break\n",
      "        else:\n",
      "            rL.append(r)\n",
      "            gL.append(g)\n",
      "            bL.append(b)\n",
      "            print i, r, g, b\n",
      "            i+=1\n",
      "    writeToFile('b.txt', rL, gL, bL)\n",
      "    print \"Finish writing \"+videoName+\".mp4\"\n",
      "\n",
      "\n",
      "\n",
      "\n"
     ],
     "language": "python",
     "metadata": {},
     "outputs": []
    }
   ],
   "metadata": {}
  }
 ]
}