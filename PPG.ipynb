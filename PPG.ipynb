{
 "metadata": {
  "name": "",
  "signature": "sha256:02b57ac4e9b0f18ae6cadac570fa916d430f573c0577dceb9f72260a81d02c82"
 },
 "nbformat": 3,
 "nbformat_minor": 0,
 "worksheets": [
  {
   "cells": [
    {
     "cell_type": "heading",
     "level": 1,
     "metadata": {},
     "source": [
      "Obtaining PPG signal from video through opencv and python"
     ]
    },
    {
     "cell_type": "markdown",
     "metadata": {},
     "source": [
      "In this jupyter notebook, we will explore how to get the PPG signal from video through opencv and python. We assume opencv and python have already been set up and ready to run. We use Opencv 2.4 and Python 2.7."
     ]
    },
    {
     "cell_type": "heading",
     "level": 2,
     "metadata": {},
     "source": [
      "The First Video"
     ]
    },
    {
     "cell_type": "markdown",
     "metadata": {},
     "source": [
      "These are the python modules that we will be using today."
     ]
    },
    {
     "cell_type": "code",
     "collapsed": false,
     "input": [
      "import cv2\n",
      "import numpy\n",
      "import matplotlib.pyplot as plt\n",
      "%matplotlib inline"
     ],
     "language": "python",
     "metadata": {},
     "outputs": [],
     "prompt_number": 2
    },
    {
     "cell_type": "markdown",
     "metadata": {},
     "source": [
      "First, using opencv, we open the video in python. We determine the width and height pixel of the video (identifier 3 is width, while 4 is height, 5 is the fps)."
     ]
    },
    {
     "cell_type": "code",
     "collapsed": false,
     "input": [
      "video = cv2.VideoCapture('a.mp4')\n",
      "ret, frame = video.read()\n",
      "width = int(video.get(3))\n",
      "height = int(video.get(4))\n",
      "fps = video.get(5)\n",
      "vLen = int(video.get(7))/fps\n",
      "print 'Video Width: ', width, 'px'\n",
      "print 'Video Height: ', height, 'px'\n",
      "print 'Video FPS: ', fps, 'frame per second'\n",
      "print 'Video Length: ', vLen, 's'"
     ],
     "language": "python",
     "metadata": {},
     "outputs": [
      {
       "output_type": "stream",
       "stream": "stdout",
       "text": [
        "Video Width:  1920 px\n",
        "Video Height:  1080 px\n",
        "Video FPS:  30.323427803 frame per second\n",
        "Video Length:  30.1746888889 s\n"
       ]
      }
     ],
     "prompt_number": 15
    },
    {
     "cell_type": "markdown",
     "metadata": {},
     "source": [
      "Here we define a function that read one frame from the video. It calculates the average red, green, and blue component of all the pixels. It returns a boolean determining if there is anymore frame left in the video, and those three values individually. Note that opencv return color as bgr."
     ]
    },
    {
     "cell_type": "code",
     "collapsed": false,
     "input": [
      "def readFrame(): \n",
      "    hasFrame, frame = video.read()\n",
      "    if not hasFrame:\n",
      "        return False, 0, 0, 0\n",
      "    totalRed = 0\n",
      "    totalGreen = 0\n",
      "    totalBlue = 0\n",
      "    for col in range(0, width):\n",
      "        for row in range(0, height):\n",
      "            totalRed += frame[row][col][2]\n",
      "            totalGreen += frame[row][col][1]\n",
      "            totalBlue += frame[row][col][0]\n",
      "    return True, totalRed/1.0/width/height, totalGreen/1.0/width/height, totalBlue/1.0/width/height"
     ],
     "language": "python",
     "metadata": {},
     "outputs": [],
     "prompt_number": 24
    },
    {
     "cell_type": "markdown",
     "metadata": {},
     "source": [
      "These are the lists that will store all the average rgb component."
     ]
    },
    {
     "cell_type": "code",
     "collapsed": false,
     "input": [
      "rL = list()\n",
      "gL = list()\n",
      "bL = list()"
     ],
     "language": "python",
     "metadata": {},
     "outputs": [],
     "prompt_number": 4
    },
    {
     "cell_type": "markdown",
     "metadata": {},
     "source": [
      "Next, we loop through the entire video, store all the component color into the lists we just created."
     ]
    },
    {
     "cell_type": "code",
     "collapsed": false,
     "input": [
      "while True:\n",
      "    hasFrame, r, g, b = readFrame()\n",
      "    if not hasFrame:\n",
      "        break\n",
      "    else:\n",
      "        rL.append(r)\n",
      "        gL.append(g)\n",
      "        bL.append(b)\n",
      "        print(r, g, b)"
     ],
     "language": "python",
     "metadata": {},
     "outputs": [
      {
       "output_type": "stream",
       "stream": "stdout",
       "text": [
        "(200.4801702353395, 54.439639274691359, 3.9652107445987652)\n",
        "(200.42555989583332, 54.522595486111108, 3.725595100308642)"
       ]
      },
      {
       "output_type": "stream",
       "stream": "stdout",
       "text": [
        "\n",
        "(200.23319492669754, 54.847917631172841, 3.002315779320988)"
       ]
      },
      {
       "output_type": "stream",
       "stream": "stdout",
       "text": [
        "\n",
        "(200.39337818287038, 55.341190200617284, 2.8496272183641977)"
       ]
      },
      {
       "output_type": "stream",
       "stream": "stdout",
       "text": [
        "\n",
        "(200.63168547453702, 55.683624614197534, 2.8916401427469136)"
       ]
      },
      {
       "output_type": "stream",
       "stream": "stdout",
       "text": [
        "\n",
        "(200.86895447530864, 55.998163580246917, 2.9675260416666664)"
       ]
      },
      {
       "output_type": "stream",
       "stream": "stdout",
       "text": [
        "\n",
        "(201.12048611111112, 56.314322916666669, 3.0266304976851854)"
       ]
      },
      {
       "output_type": "stream",
       "stream": "stdout",
       "text": [
        "\n",
        "(201.43906201774692, 56.717355324074077, 3.0914221643518518)"
       ]
      },
      {
       "output_type": "stream",
       "stream": "stdout",
       "text": [
        "\n",
        "(201.7798895640432, 57.129979263117285, 3.1414824459876542)"
       ]
      },
      {
       "output_type": "stream",
       "stream": "stdout",
       "text": [
        "\n",
        "(202.07131992669753, 57.525923996913583, 3.1966227816358028)"
       ]
      },
      {
       "output_type": "stream",
       "stream": "stdout",
       "text": [
        "\n",
        "(201.62525559413578, 57.009791666666665, 3.1619815779320986)"
       ]
      },
      {
       "output_type": "stream",
       "stream": "stdout",
       "text": [
        "\n",
        "(199.30130208333333, 54.000158179012345, 3.1201340663580246)"
       ]
      },
      {
       "output_type": "stream",
       "stream": "stdout",
       "text": [
        "\n",
        "(197.29329089506174, 51.401979648919756, 3.0369531250000001)"
       ]
      },
      {
       "output_type": "stream",
       "stream": "stdout",
       "text": [
        "\n",
        "(196.5105724344136, 50.398617380401234, 3.0047087191358024)"
       ]
      },
      {
       "output_type": "stream",
       "stream": "stdout",
       "text": [
        "\n",
        "(196.41500482253085, 50.726534529320993, 3.0615489969135803)"
       ]
      },
      {
       "output_type": "stream",
       "stream": "stdout",
       "text": [
        "\n",
        "(196.39206114969136, 50.644513406635802, 3.0567780671296299)"
       ]
      },
      {
       "output_type": "stream",
       "stream": "stdout",
       "text": [
        "\n",
        "(196.30760609567901, 50.380051601080247, 3.0404890046296296)"
       ]
      },
      {
       "output_type": "stream",
       "stream": "stdout",
       "text": [
        "\n",
        "(196.10138888888889, 49.860964023919756, 3.0041102430555555)"
       ]
      },
      {
       "output_type": "stream",
       "stream": "stdout",
       "text": [
        "\n",
        "(196.06374421296297, 49.539743923611113, 2.9562972608024691)"
       ]
      },
      {
       "output_type": "stream",
       "stream": "stdout",
       "text": [
        "\n",
        "(195.9949532214506, 49.131000675154318, 2.9239684606481484)"
       ]
      },
      {
       "output_type": "stream",
       "stream": "stdout",
       "text": [
        "\n",
        "(195.66746817129629, 48.420065104166667, 2.8564086612654322)"
       ]
      },
      {
       "output_type": "stream",
       "stream": "stdout",
       "text": [
        "\n",
        "(195.41380787037036, 47.815975597993827, 2.8127869405864199)"
       ]
      },
      {
       "output_type": "stream",
       "stream": "stdout",
       "text": [
        "\n",
        "(195.5649647955247, 48.031167534722222, 2.8744024884259263)"
       ]
      },
      {
       "output_type": "stream",
       "stream": "stdout",
       "text": [
        "\n",
        "(195.79724440586421, 48.354883777006179, 2.937398726851852)"
       ]
      },
      {
       "output_type": "stream",
       "stream": "stdout",
       "text": [
        "\n",
        "(196.13488233024691, 48.84191647376543, 2.9867992862654322)"
       ]
      },
      {
       "output_type": "stream",
       "stream": "stdout",
       "text": [
        "\n",
        "(196.57194396219137, 49.451756365740742, 2.9988440393518521)"
       ]
      },
      {
       "output_type": "stream",
       "stream": "stdout",
       "text": [
        "\n",
        "(197.00401668595677, 50.070635609567901, 3.0181925154320988)"
       ]
      },
      {
       "output_type": "stream",
       "stream": "stdout",
       "text": [
        "\n",
        "(197.44536168981483, 50.706131365740738, 3.0579779128086417)"
       ]
      },
      {
       "output_type": "stream",
       "stream": "stdout",
       "text": [
        "\n",
        "(197.8342578125, 51.258153452932099, 3.0853534915123455)"
       ]
      },
      {
       "output_type": "stream",
       "stream": "stdout",
       "text": [
        "\n",
        "(198.24357831790124, 51.828015046296294, 3.1069367283950617)"
       ]
      },
      {
       "output_type": "stream",
       "stream": "stdout",
       "text": [
        "\n",
        "(198.94027150848765, 52.598942901234565, 3.1148355516975306)"
       ]
      },
      {
       "output_type": "stream",
       "stream": "stdout",
       "text": [
        "\n",
        "(198.9493499228395, 52.621464602623455, 3.1078216628086421)"
       ]
      },
      {
       "output_type": "stream",
       "stream": "stdout",
       "text": [
        "\n",
        "(199.05645785108027, 52.895151909722223, 3.0298302469135803)"
       ]
      },
      {
       "output_type": "stream",
       "stream": "stdout",
       "text": [
        "\n",
        "(199.31583285108024, 53.37543209876543, 3.0005738811728393)"
       ]
      },
      {
       "output_type": "stream",
       "stream": "stdout",
       "text": [
        "\n",
        "(199.64947868441359, 53.900095003858027, 3.0404827353395061)"
       ]
      },
      {
       "output_type": "stream",
       "stream": "stdout",
       "text": [
        "\n",
        "(199.93143180941357, 54.367507233796296, 3.0768952546296298)"
       ]
      },
      {
       "output_type": "stream",
       "stream": "stdout",
       "text": [
        "\n",
        "(200.11284143518517, 54.52272135416667, 3.0961979166666667)"
       ]
      },
      {
       "output_type": "stream",
       "stream": "stdout",
       "text": [
        "\n",
        "(200.3365335648148, 54.767538097993828, 3.1314429012345681)"
       ]
      },
      {
       "output_type": "stream",
       "stream": "stdout",
       "text": [
        "\n",
        "(200.54433207947528, 55.032419945987655, 3.1527536651234569)"
       ]
      },
      {
       "output_type": "stream",
       "stream": "stdout",
       "text": [
        "\n",
        "(200.72472800925925, 55.292844810956787, 3.1672762345679013)"
       ]
      },
      {
       "output_type": "stream",
       "stream": "stdout",
       "text": [
        "\n",
        "(200.46393277391977, 55.022149402006171, 3.1010990547839508)"
       ]
      },
      {
       "output_type": "stream",
       "stream": "stdout",
       "text": [
        "\n",
        "(198.48564911265433, 52.746187307098765, 3.0389535108024694)"
       ]
      },
      {
       "output_type": "stream",
       "stream": "stdout",
       "text": [
        "\n",
        "(196.41471016589509, 50.104866898148146, 2.9085238233024691)"
       ]
      },
      {
       "output_type": "stream",
       "stream": "stdout",
       "text": [
        "\n",
        "(195.49971113040124, 48.928979070216045, 2.8773967978395061)"
       ]
      },
      {
       "output_type": "stream",
       "stream": "stdout",
       "text": [
        "\n",
        "(195.29527826003087, 48.707214023919754, 2.8732127700617287)"
       ]
      },
      {
       "output_type": "stream",
       "stream": "stdout",
       "text": [
        "\n",
        "(195.33027440200618, 48.797273341049383, 2.9219362461419753)"
       ]
      },
      {
       "output_type": "stream",
       "stream": "stdout",
       "text": [
        "\n",
        "(195.47519386574075, 49.010909047067898, 2.9917076581790125)"
       ]
      },
      {
       "output_type": "stream",
       "stream": "stdout",
       "text": [
        "\n",
        "(195.77081018518518, 49.374962866512341, 3.0421706211419752)"
       ]
      },
      {
       "output_type": "stream",
       "stream": "stdout",
       "text": [
        "\n",
        "(196.10153694058641, 49.775192901234568, 3.0689805169753086)"
       ]
      },
      {
       "output_type": "stream",
       "stream": "stdout",
       "text": [
        "\n",
        "(196.20005353009259, 49.931289544753085, 3.0649971064814814)"
       ]
      },
      {
       "output_type": "stream",
       "stream": "stdout",
       "text": [
        "\n",
        "(196.11907118055555, 49.85935956790123, 3.0305738811728395)"
       ]
      },
      {
       "output_type": "stream",
       "stream": "stdout",
       "text": [
        "\n",
        "(195.97998746141974, 49.72015866126543, 2.9857479745370368)"
       ]
      },
      {
       "output_type": "stream",
       "stream": "stdout",
       "text": [
        "\n",
        "(195.91323736496915, 49.656586612654323, 2.9762774884259255)"
       ]
      },
      {
       "output_type": "stream",
       "stream": "stdout",
       "text": [
        "\n",
        "(195.95808593750002, 49.737018711419751, 3.0096494020061728)"
       ]
      },
      {
       "output_type": "stream",
       "stream": "stdout",
       "text": [
        "\n",
        "(196.14650800540122, 49.973365162037034, 3.0608839699074073)"
       ]
      },
      {
       "output_type": "stream",
       "stream": "stdout",
       "text": [
        "\n",
        "(196.42814814814815, 50.298009741512345, 3.0862726658950614)"
       ]
      },
      {
       "output_type": "stream",
       "stream": "stdout",
       "text": [
        "\n",
        "(196.76055266203704, 50.716472800925928, 3.07979793595679)"
       ]
      },
      {
       "output_type": "stream",
       "stream": "stdout",
       "text": [
        "\n",
        "(197.063800154321, 51.079183063271607, 3.0544376929012347)"
       ]
      },
      {
       "output_type": "stream",
       "stream": "stdout",
       "text": [
        "\n",
        "(197.35811873070986, 51.445915316358025, 3.064289641203704)"
       ]
      },
      {
       "output_type": "stream",
       "stream": "stdout",
       "text": [
        "\n",
        "(197.61879726080249, 51.772936439043214, 3.0749402006172839)"
       ]
      },
      {
       "output_type": "stream",
       "stream": "stdout",
       "text": [
        "\n",
        "(197.83501494984566, 52.041704764660494, 3.0970891203703701)"
       ]
      },
      {
       "output_type": "stream",
       "stream": "stdout",
       "text": [
        "\n",
        "(198.285418595679, 52.583363233024691, 3.0842438271604937)"
       ]
      },
      {
       "output_type": "stream",
       "stream": "stdout",
       "text": [
        "\n",
        "(198.28646749614197, 52.603869598765435, 3.0418137538580248)"
       ]
      },
      {
       "output_type": "stream",
       "stream": "stdout",
       "text": [
        "\n",
        "(198.38323495370369, 52.734564043209879, 3.035936535493827)"
       ]
      },
      {
       "output_type": "stream",
       "stream": "stdout",
       "text": [
        "\n",
        "(198.58009934413582, 52.969451678240738, 3.0724580439814813)"
       ]
      },
      {
       "output_type": "stream",
       "stream": "stdout",
       "text": [
        "\n",
        "(198.79625192901236, 53.255139853395058, 3.0970563271604936)"
       ]
      },
      {
       "output_type": "stream",
       "stream": "stdout",
       "text": [
        "\n",
        "(199.04084780092595, 53.569426601080245, 3.1159972993827161)"
       ]
      },
      {
       "output_type": "stream",
       "stream": "stdout",
       "text": [
        "\n",
        "(198.93932388117284, 53.481007426697531, 3.0695302854938271)"
       ]
      },
      {
       "output_type": "stream",
       "stream": "stdout",
       "text": [
        "\n",
        "(197.33842930169752, 51.712825038580249, 2.9684172453703703)"
       ]
      },
      {
       "output_type": "stream",
       "stream": "stdout",
       "text": [
        "\n",
        "(195.15053192515433, 48.991270736882718, 2.8317930169753085)"
       ]
      },
      {
       "output_type": "stream",
       "stream": "stdout",
       "text": [
        "\n",
        "(194.27401379243827, 47.964836516203704, 2.7934712577160496)"
       ]
      },
      {
       "output_type": "stream",
       "stream": "stdout",
       "text": [
        "\n",
        "(193.9390977044753, 47.598444733796299, 2.7764853395061726)"
       ]
      },
      {
       "output_type": "stream",
       "stream": "stdout",
       "text": [
        "\n",
        "(193.84384693287035, 47.555924961419748, 2.8017462384259262)"
       ]
      },
      {
       "output_type": "stream",
       "stream": "stdout",
       "text": [
        "\n",
        "(193.86815007716049, 47.678192033179009, 2.8453641010802473)"
       ]
      },
      {
       "output_type": "stream",
       "stream": "stdout",
       "text": [
        "\n",
        "(193.9834553433642, 47.873097993827159, 2.8979132908950618)"
       ]
      },
      {
       "output_type": "stream",
       "stream": "stdout",
       "text": [
        "\n",
        "(194.20723427854938, 48.189003665123451, 2.9398996913580246)"
       ]
      },
      {
       "output_type": "stream",
       "stream": "stdout",
       "text": [
        "\n",
        "(194.34528886959876, 48.39097270447531, 2.9542279128086419)"
       ]
      },
      {
       "output_type": "stream",
       "stream": "stdout",
       "text": [
        "\n",
        "(194.31016251929012, 48.359966242283953, 2.9466444830246914)"
       ]
      },
      {
       "output_type": "stream",
       "stream": "stdout",
       "text": [
        "\n",
        "(194.19368248456792, 48.247703510802467, 2.9123075810185188)"
       ]
      },
      {
       "output_type": "stream",
       "stream": "stdout",
       "text": [
        "\n",
        "(194.1226311728395, 48.190359760802465, 2.8956008873456787)"
       ]
      },
      {
       "output_type": "stream",
       "stream": "stdout",
       "text": [
        "\n",
        "(194.19297116126543, 48.277798032407404, 2.9235551697530866)"
       ]
      },
      {
       "output_type": "stream",
       "stream": "stdout",
       "text": [
        "\n",
        "(194.38297357253086, 48.525813078703706, 2.9666112075617281)"
       ]
      },
      {
       "output_type": "stream",
       "stream": "stdout",
       "text": [
        "\n",
        "(194.66039882330247, 48.853181905864197, 2.9752989969135801)"
       ]
      },
      {
       "output_type": "stream",
       "stream": "stdout",
       "text": [
        "\n",
        "(195.0195495756173, 49.277108892746909, 2.9771248070987655)"
       ]
      },
      {
       "output_type": "stream",
       "stream": "stdout",
       "text": [
        "\n",
        "(195.37886766975311, 49.698790027006176, 2.9614419367283951)"
       ]
      },
      {
       "output_type": "stream",
       "stream": "stdout",
       "text": [
        "\n",
        "(195.7054938271605, 50.091886091820989, 2.961467013888889)"
       ]
      },
      {
       "output_type": "stream",
       "stream": "stdout",
       "text": [
        "\n",
        "(195.9843508873457, 50.422459490740742, 2.9736115933641973)"
       ]
      },
      {
       "output_type": "stream",
       "stream": "stdout",
       "text": [
        "\n",
        "(196.21388406635802, 50.68522183641975, 2.9871122685185187)"
       ]
      },
      {
       "output_type": "stream",
       "stream": "stdout",
       "text": [
        "\n",
        "(196.41445167824074, 50.912728105709874, 3.007142650462963)"
       ]
      },
      {
       "output_type": "stream",
       "stream": "stdout",
       "text": [
        "\n",
        "(196.61622540509259, 51.139657600308638, 3.0351692708333333)"
       ]
      },
      {
       "output_type": "stream",
       "stream": "stdout",
       "text": [
        "\n",
        "(196.85251012731482, 51.400595100308642, 3.0420408950617284)"
       ]
      },
      {
       "output_type": "stream",
       "stream": "stdout",
       "text": [
        "\n",
        "(197.12232880015432, 51.723565297067907, 3.0318942901234567)"
       ]
      },
      {
       "output_type": "stream",
       "stream": "stdout",
       "text": [
        "\n",
        "(197.66081790123457, 52.418808352623458, 2.9557889660493828)"
       ]
      },
      {
       "output_type": "stream",
       "stream": "stdout",
       "text": [
        "\n",
        "(197.42970727237656, 52.147910879629634, 2.8968195408950614)"
       ]
      },
      {
       "output_type": "stream",
       "stream": "stdout",
       "text": [
        "\n",
        "(195.19600260416667, 49.468537326388883, 2.736415412808642)"
       ]
      },
      {
       "output_type": "stream",
       "stream": "stdout",
       "text": [
        "\n",
        "(193.23673659336418, 47.213195408950618, 2.6832113233024693)"
       ]
      },
      {
       "output_type": "stream",
       "stream": "stdout",
       "text": [
        "\n",
        "(192.73620273919755, 46.554317611882716, 2.6883492476851854)"
       ]
      },
      {
       "output_type": "stream",
       "stream": "stdout",
       "text": [
        "\n",
        "(192.51782841435187, 46.324955150462962, 2.6865055941358023)"
       ]
      },
      {
       "output_type": "stream",
       "stream": "stdout",
       "text": [
        "\n",
        "(192.49073929398148, 46.343358410493821, 2.7269130979938274)"
       ]
      },
      {
       "output_type": "stream",
       "stream": "stdout",
       "text": [
        "\n",
        "(193.88127652391975, 47.6596412037037, 2.9038580246913579)"
       ]
      },
      {
       "output_type": "stream",
       "stream": "stdout",
       "text": [
        "\n",
        "(196.17240210262347, 49.565420042438276, 3.1213705632716051)"
       ]
      },
      {
       "output_type": "stream",
       "stream": "stdout",
       "text": [
        "\n",
        "(198.66549093364196, 51.740273919753086, 3.2036998456790124)"
       ]
      },
      {
       "output_type": "stream",
       "stream": "stdout",
       "text": [
        "\n",
        "(199.02236207561728, 52.072097800925924, 3.1832624421296298)"
       ]
      },
      {
       "output_type": "stream",
       "stream": "stdout",
       "text": [
        "\n",
        "(199.19062692901232, 52.18264660493827, 3.1860522762345678)"
       ]
      },
      {
       "output_type": "stream",
       "stream": "stdout",
       "text": [
        "\n",
        "(199.24762635030865, 52.19610484182099, 3.18721981095679)"
       ]
      },
      {
       "output_type": "stream",
       "stream": "stdout",
       "text": [
        "\n",
        "(199.33357301311727, 52.257308545524687, 3.2045679012345678)"
       ]
      },
      {
       "output_type": "stream",
       "stream": "stdout",
       "text": [
        "\n",
        "(199.5376779513889, 52.468041087962966, 3.2306225887345681)"
       ]
      },
      {
       "output_type": "stream",
       "stream": "stdout",
       "text": [
        "\n",
        "(199.83944299768518, 52.795409915123457, 3.2535773533950616)"
       ]
      },
      {
       "output_type": "stream",
       "stream": "stdout",
       "text": [
        "\n",
        "(200.17270206404319, 53.170038580246917, 3.2297034143518522)"
       ]
      },
      {
       "output_type": "stream",
       "stream": "stdout",
       "text": [
        "\n",
        "(200.54790461033949, 53.603394097222221, 3.2207016782407405)"
       ]
      },
      {
       "output_type": "stream",
       "stream": "stdout",
       "text": [
        "\n",
        "(200.9347902199074, 54.057628279320987, 3.2174435763888889)"
       ]
      },
      {
       "output_type": "stream",
       "stream": "stdout",
       "text": [
        "\n",
        "(201.35622202932097, 54.539653742283953, 3.2573355516975306)"
       ]
      },
      {
       "output_type": "stream",
       "stream": "stdout",
       "text": [
        "\n",
        "(201.7146445794753, 54.954574170524687, 3.2890292245370372)"
       ]
      },
      {
       "output_type": "stream",
       "stream": "stdout",
       "text": [
        "\n",
        "(202.00291859567901, 55.288941936728392, 3.3279576581790122)"
       ]
      },
      {
       "output_type": "stream",
       "stream": "stdout",
       "text": [
        "\n",
        "(202.26573929398148, 55.58204668209877, 3.3478568672839506)"
       ]
      },
      {
       "output_type": "stream",
       "stream": "stdout",
       "text": [
        "\n",
        "(202.51025125385803, 55.854654224537043, 3.3509047067901232)"
       ]
      },
      {
       "output_type": "stream",
       "stream": "stdout",
       "text": [
        "\n",
        "(202.77324411651233, 56.161514756944442, 3.3734211033950618)"
       ]
      },
      {
       "output_type": "stream",
       "stream": "stdout",
       "text": [
        "\n",
        "(203.06398244598765, 56.527613811728394, 3.3597164351851854)"
       ]
      },
      {
       "output_type": "stream",
       "stream": "stdout",
       "text": [
        "\n",
        "(203.39767795138889, 56.94413049768518, 3.3568147183641974)"
       ]
      },
      {
       "output_type": "stream",
       "stream": "stdout",
       "text": [
        "\n",
        "(203.63223138503088, 57.238740837191358, 3.3922212577160495)"
       ]
      },
      {
       "output_type": "stream",
       "stream": "stdout",
       "text": [
        "\n",
        "(203.1659370177469, 56.742740162037038, 3.31924430941358)"
       ]
      },
      {
       "output_type": "stream",
       "stream": "stdout",
       "text": [
        "\n",
        "(201.14834828317902, 54.231980613425925, 3.2291748649691359)"
       ]
      },
      {
       "output_type": "stream",
       "stream": "stdout",
       "text": [
        "\n",
        "(199.64199652777779, 52.367636477623456, 3.1727830825617285)"
       ]
      },
      {
       "output_type": "stream",
       "stream": "stdout",
       "text": [
        "\n",
        "(198.93170476466051, 51.011201292438273, 3.2134702932098769)"
       ]
      },
      {
       "output_type": "stream",
       "stream": "stdout",
       "text": [
        "\n",
        "(198.9642259837963, 51.114253472222224, 3.2011439043209879)"
       ]
      },
      {
       "output_type": "stream",
       "stream": "stdout",
       "text": [
        "\n",
        "(199.00485725308641, 51.256170910493829, 3.1998799189814817)"
       ]
      },
      {
       "output_type": "stream",
       "stream": "stdout",
       "text": [
        "\n",
        "(199.06069589120372, 51.392413194444444, 3.2047463348765435)"
       ]
      },
      {
       "output_type": "stream",
       "stream": "stdout",
       "text": [
        "\n",
        "(199.22663001543208, 51.639025848765435, 3.2209992283950619)"
       ]
      },
      {
       "output_type": "stream",
       "stream": "stdout",
       "text": [
        "\n",
        "(199.47427276234566, 51.96488474151235, 3.2061299189814818)"
       ]
      },
      {
       "output_type": "stream",
       "stream": "stdout",
       "text": [
        "\n",
        "(199.69274112654321, 52.236130883487654, 3.2158960262345682)"
       ]
      },
      {
       "output_type": "stream",
       "stream": "stdout",
       "text": [
        "\n",
        "(199.77226610725307, 52.3488777970679, 3.2265369405864197)"
       ]
      },
      {
       "output_type": "stream",
       "stream": "stdout",
       "text": [
        "\n",
        "(199.81174045138889, 52.398855131172837, 3.2352570408950618)"
       ]
      },
      {
       "output_type": "stream",
       "stream": "stdout",
       "text": [
        "\n",
        "(199.90349537037036, 52.50869212962963, 3.2491772762345681)"
       ]
      },
      {
       "output_type": "stream",
       "stream": "stdout",
       "text": [
        "\n",
        "(200.09993730709877, 52.732954764660498, 3.2905000964506175)"
       ]
      },
      {
       "output_type": "stream",
       "stream": "stdout",
       "text": [
        "\n",
        "(200.37443528163581, 53.07513069058642, 3.288668499228395)"
       ]
      },
      {
       "output_type": "stream",
       "stream": "stdout",
       "text": [
        "\n",
        "(200.70596788194445, 53.481222029320989, 3.2564023919753087)"
       ]
      },
      {
       "output_type": "stream",
       "stream": "stdout",
       "text": [
        "\n",
        "(201.05579234182099, 53.924755497685183, 3.2374430941358026)"
       ]
      },
      {
       "output_type": "stream",
       "stream": "stdout",
       "text": [
        "\n",
        "(201.43965036651232, 54.382759452160499, 3.2401234567901236)"
       ]
      },
      {
       "output_type": "stream",
       "stream": "stdout",
       "text": [
        "\n",
        "(201.82242042824072, 54.849810474537037, 3.2777792245370372)"
       ]
      },
      {
       "output_type": "stream",
       "stream": "stdout",
       "text": [
        "\n",
        "(202.15063657407407, 55.240834780092591, 3.2889703896604936)"
       ]
      },
      {
       "output_type": "stream",
       "stream": "stdout",
       "text": [
        "\n",
        "(202.42411651234568, 55.587080922067898, 3.3355073302469136)"
       ]
      },
      {
       "output_type": "stream",
       "stream": "stdout",
       "text": [
        "\n",
        "(202.67378568672839, 55.894220679012342, 3.349698109567901)"
       ]
      },
      {
       "output_type": "stream",
       "stream": "stdout",
       "text": [
        "\n",
        "(202.90478732638888, 56.180612461419749, 3.363452449845679)"
       ]
      },
      {
       "output_type": "stream",
       "stream": "stdout",
       "text": [
        "\n",
        "(203.16277440200616, 56.47895736882716, 3.3902396797839507)"
       ]
      },
      {
       "output_type": "stream",
       "stream": "stdout",
       "text": [
        "\n",
        "(203.41843171296296, 56.81083381558642, 3.3973977623456788)"
       ]
      },
      {
       "output_type": "stream",
       "stream": "stdout",
       "text": [
        "\n",
        "(203.71365547839508, 57.185944251543212, 3.3949604552469133)"
       ]
      },
      {
       "output_type": "stream",
       "stream": "stdout",
       "text": [
        "\n",
        "(204.06129484953703, 57.626971450617283, 3.4005922067901233)"
       ]
      },
      {
       "output_type": "stream",
       "stream": "stdout",
       "text": [
        "\n",
        "(204.32913724922841, 57.963690200617286, 3.4060937500000001)"
       ]
      },
      {
       "output_type": "stream",
       "stream": "stdout",
       "text": [
        "\n",
        "(203.88427179783952, 57.483009741512348, 3.3397381365740744)"
       ]
      },
      {
       "output_type": "stream",
       "stream": "stdout",
       "text": [
        "\n",
        "(201.86953510802471, 54.962056809413582, 3.2465813078703705)"
       ]
      },
      {
       "output_type": "stream",
       "stream": "stdout",
       "text": [
        "\n",
        "(200.34815393518519, 52.99160783179012, 3.1737620563271602)"
       ]
      },
      {
       "output_type": "stream",
       "stream": "stdout",
       "text": [
        "\n",
        "(200.06629050925926, 52.552569926697529, 3.1632576195987654)"
       ]
      },
      {
       "output_type": "stream",
       "stream": "stdout",
       "text": [
        "\n",
        "(199.97110001929013, 52.417908950617282, 3.1695042438271606)"
       ]
      },
      {
       "output_type": "stream",
       "stream": "stdout",
       "text": [
        "\n",
        "(200.01905092592594, 52.476347897376542, 3.2104263117283951)"
       ]
      },
      {
       "output_type": "stream",
       "stream": "stdout",
       "text": [
        "\n",
        "(200.27066213348763, 52.705027970679012, 3.2496233603395064)"
       ]
      },
      {
       "output_type": "stream",
       "stream": "stdout",
       "text": [
        "\n",
        "(200.42875723379629, 52.921835937499999, 3.2622130594135803)"
       ]
      },
      {
       "output_type": "stream",
       "stream": "stdout",
       "text": [
        "\n",
        "(200.6520703125, 53.222801890432102, 3.2573606288580246)"
       ]
      },
      {
       "output_type": "stream",
       "stream": "stdout",
       "text": [
        "\n",
        "(200.78621720679013, 53.400461516203706, 3.2736738040123456)"
       ]
      },
      {
       "output_type": "stream",
       "stream": "stdout",
       "text": [
        "\n",
        "(200.78910252700618, 53.394967689043206, 3.2568417245370371)"
       ]
      },
      {
       "output_type": "stream",
       "stream": "stdout",
       "text": [
        "\n",
        "(200.78756896219136, 53.37905815972222, 3.2559669174382715)"
       ]
      },
      {
       "output_type": "stream",
       "stream": "stdout",
       "text": [
        "\n",
        "(200.85648678626544, 53.465879147376548, 3.282444540895062)"
       ]
      },
      {
       "output_type": "stream",
       "stream": "stdout",
       "text": [
        "\n",
        "(201.06075617283952, 53.692527488425924, 3.3224184992283954)"
       ]
      },
      {
       "output_type": "stream",
       "stream": "stdout",
       "text": [
        "\n",
        "(201.4177478780864, 54.180031346450619, 3.27529899691358)"
       ]
      },
      {
       "output_type": "stream",
       "stream": "stdout",
       "text": [
        "\n",
        "(201.84341724537038, 54.744939236111115, 3.2982479745370368)"
       ]
      },
      {
       "output_type": "stream",
       "stream": "stdout",
       "text": [
        "\n",
        "(202.16843171296296, 55.076935281635805, 3.3304103973765433)"
       ]
      },
      {
       "output_type": "stream",
       "stream": "stdout",
       "text": [
        "\n",
        "(202.46452208719137, 55.440788001543211, 3.338250385802469)"
       ]
      },
      {
       "output_type": "stream",
       "stream": "stdout",
       "text": [
        "\n",
        "(202.73396363811727, 55.663482349537034, 3.3683492476851851)"
       ]
      },
      {
       "output_type": "stream",
       "stream": "stdout",
       "text": [
        "\n",
        "(202.9592110339506, 55.892327835648153, 3.3863305362654321)"
       ]
      },
      {
       "output_type": "stream",
       "stream": "stdout",
       "text": [
        "\n",
        "(203.12645254629629, 55.991122202932097, 3.4018026620370372)"
       ]
      },
      {
       "output_type": "stream",
       "stream": "stdout",
       "text": [
        "\n",
        "(203.27337336033949, 56.120482735339507, 3.4156076388888885)"
       ]
      },
      {
       "output_type": "stream",
       "stream": "stdout",
       "text": [
        "\n",
        "(203.49485001929011, 56.442167245370371, 3.4088329475308643)"
       ]
      },
      {
       "output_type": "stream",
       "stream": "stdout",
       "text": [
        "\n",
        "(203.7477517361111, 56.784131944444447, 3.4004721257716048)"
       ]
      },
      {
       "output_type": "stream",
       "stream": "stdout",
       "text": [
        "\n",
        "(204.064620466821, 57.197704475308647, 3.3801842206790127)"
       ]
      },
      {
       "output_type": "stream",
       "stream": "stdout",
       "text": [
        "\n",
        "(204.32863811728396, 57.559303144290119, 3.3793214699074077)"
       ]
      },
      {
       "output_type": "stream",
       "stream": "stdout",
       "text": [
        "\n",
        "(204.09488377700617, 57.319144483024694, 3.3312147955246916)"
       ]
      },
      {
       "output_type": "stream",
       "stream": "stdout",
       "text": [
        "\n",
        "(202.56469184027779, 55.45138165509259, 3.2950226658950617)"
       ]
      },
      {
       "output_type": "stream",
       "stream": "stdout",
       "text": [
        "\n",
        "(200.82905237268517, 53.227563175154316, 3.1953891782407404)"
       ]
      },
      {
       "output_type": "stream",
       "stream": "stdout",
       "text": [
        "\n",
        "(200.32896749614196, 52.529446373456793, 3.1789221643518522)"
       ]
      },
      {
       "output_type": "stream",
       "stream": "stdout",
       "text": [
        "\n",
        "(200.18791714891975, 52.344953221450616, 3.167928240740741)"
       ]
      },
      {
       "output_type": "stream",
       "stream": "stdout",
       "text": [
        "\n",
        "(200.20820167824075, 52.370747010030861, 3.1940268132716048)"
       ]
      },
      {
       "output_type": "stream",
       "stream": "stdout",
       "text": [
        "\n",
        "(200.32293643904322, 52.517220293209874, 3.241570698302469)"
       ]
      },
      {
       "output_type": "stream",
       "stream": "stdout",
       "text": [
        "\n",
        "(200.58431375385803, 52.824968171296291, 3.293292824074074)"
       ]
      },
      {
       "output_type": "stream",
       "stream": "stdout",
       "text": [
        "\n",
        "(200.93229166666666, 53.259913676697529, 3.2950202546296294)"
       ]
      },
      {
       "output_type": "stream",
       "stream": "stdout",
       "text": [
        "\n",
        "(201.13323206018518, 53.512973572530868, 3.2949691358024689)"
       ]
      },
      {
       "output_type": "stream",
       "stream": "stdout",
       "text": [
        "\n",
        "(201.15044849537037, 53.545360725308647, 3.2910566165123458)"
       ]
      },
      {
       "output_type": "stream",
       "stream": "stdout",
       "text": [
        "\n",
        "(201.26288628472221, 53.529480131172839, 3.2509992283950617)"
       ]
      },
      {
       "output_type": "stream",
       "stream": "stdout",
       "text": [
        "\n",
        "(201.32675298996912, 53.617638888888891, 3.2378534915123454)"
       ]
      },
      {
       "output_type": "stream",
       "stream": "stdout",
       "text": [
        "\n",
        "(201.46828462577162, 53.80598331404321, 3.2498119212962964)"
       ]
      },
      {
       "output_type": "stream",
       "stream": "stdout",
       "text": [
        "\n",
        "(201.75057677469135, 54.185049189814819, 3.2799098186728397)"
       ]
      },
      {
       "output_type": "stream",
       "stream": "stdout",
       "text": [
        "\n",
        "(202.07179687499999, 54.59499807098765, 3.2837967785493825)"
       ]
      },
      {
       "output_type": "stream",
       "stream": "stdout",
       "text": [
        "\n",
        "(202.38365065586419, 55.006677276234569, 3.285970775462963)"
       ]
      },
      {
       "output_type": "stream",
       "stream": "stdout",
       "text": [
        "\n",
        "(202.70493248456791, 55.411047453703702, 3.2765388695987654)"
       ]
      },
      {
       "output_type": "stream",
       "stream": "stdout",
       "text": [
        "\n",
        "(203.03873794367283, 55.826350790895063, 3.2987943672839504)"
       ]
      },
      {
       "output_type": "stream",
       "stream": "stdout",
       "text": [
        "\n",
        "(203.37575810185186, 56.246523437500002, 3.3408579282407409)"
       ]
      },
      {
       "output_type": "stream",
       "stream": "stdout",
       "text": [
        "\n",
        "(203.647890625, 56.604015721450622, 3.3602493248456788)"
       ]
      },
      {
       "output_type": "stream",
       "stream": "stdout",
       "text": [
        "\n",
        "(203.86081886574075, 56.881194540895059, 3.3866729359567902)"
       ]
      },
      {
       "output_type": "stream",
       "stream": "stdout",
       "text": [
        "\n",
        "(204.08011236496915, 57.15323013117284, 3.4005782214506173)"
       ]
      },
      {
       "output_type": "stream",
       "stream": "stdout",
       "text": [
        "\n",
        "(204.32863088348765, 57.464631076388883, 3.3979214891975311)"
       ]
      },
      {
       "output_type": "stream",
       "stream": "stdout",
       "text": [
        "\n",
        "(204.629073591821, 57.823620273919751, 3.4073075810185185)"
       ]
      },
      {
       "output_type": "stream",
       "stream": "stdout",
       "text": [
        "\n",
        "(204.94058979552469, 58.213069540895063, 3.4087890624999999)"
       ]
      },
      {
       "output_type": "stream",
       "stream": "stdout",
       "text": [
        "\n",
        "(205.14089747299383, 58.481180073302468, 3.4290996334876542)"
       ]
      },
      {
       "output_type": "stream",
       "stream": "stdout",
       "text": [
        "\n",
        "(204.54834249614197, 57.817529899691358, 3.3496035879629629)"
       ]
      },
      {
       "output_type": "stream",
       "stream": "stdout",
       "text": [
        "\n",
        "(202.2761824845679, 54.888117766203706, 3.2327811535493827)"
       ]
      },
      {
       "output_type": "stream",
       "stream": "stdout",
       "text": [
        "\n",
        "(200.70919270833335, 52.956661361882716, 3.1861260609567901)"
       ]
      },
      {
       "output_type": "stream",
       "stream": "stdout",
       "text": [
        "\n",
        "(200.41553047839506, 52.490258969907408, 3.1819507137345675)"
       ]
      },
      {
       "output_type": "stream",
       "stream": "stdout",
       "text": [
        "\n",
        "(200.34261911651237, 52.37256124614197, 3.179104938271605)"
       ]
      },
      {
       "output_type": "stream",
       "stream": "stdout",
       "text": [
        "\n",
        "(200.38149980709878, 52.406194058641972, 3.2079099151234569)"
       ]
      },
      {
       "output_type": "stream",
       "stream": "stdout",
       "text": [
        "\n",
        "(200.40732735339506, 52.446572627314815, 3.2292365933641975)"
       ]
      },
      {
       "output_type": "stream",
       "stream": "stdout",
       "text": [
        "\n",
        "(200.55664785879631, 52.632583429783949, 3.2820341435185187)"
       ]
      },
      {
       "output_type": "stream",
       "stream": "stdout",
       "text": [
        "\n",
        "(200.79937644675925, 52.91656442901234, 3.3156737075617286)"
       ]
      },
      {
       "output_type": "stream",
       "stream": "stdout",
       "text": [
        "\n",
        "(200.95862847222222, 53.110314911265434, 3.3247048611111114)"
       ]
      },
      {
       "output_type": "stream",
       "stream": "stdout",
       "text": [
        "\n",
        "(200.9946556712963, 53.139927662037032, 3.3243026620370371)"
       ]
      },
      {
       "output_type": "stream",
       "stream": "stdout",
       "text": [
        "\n",
        "(201.01977044753087, 53.168282214506171, 3.3381331983024691)"
       ]
      },
      {
       "output_type": "stream",
       "stream": "stdout",
       "text": [
        "\n",
        "(201.15130642361112, 53.31593219521605, 3.3599715470679015)"
       ]
      },
      {
       "output_type": "stream",
       "stream": "stdout",
       "text": [
        "\n",
        "(201.35652584876541, 53.545500096450617, 3.3595669367283949)"
       ]
      },
      {
       "output_type": "stream",
       "stream": "stdout",
       "text": [
        "\n",
        "(201.6551422646605, 53.911052276234564, 3.3235059799382718)"
       ]
      },
      {
       "output_type": "stream",
       "stream": "stdout",
       "text": [
        "\n",
        "(202.46022665895063, 54.981474247685185, 3.3165813078703703)"
       ]
      },
      {
       "output_type": "stream",
       "stream": "stdout",
       "text": [
        "\n",
        "(202.59686873070987, 55.159971547067904, 3.3280420524691356)"
       ]
      },
      {
       "output_type": "stream",
       "stream": "stdout",
       "text": [
        "\n",
        "(202.81716338734569, 55.426067708333328, 3.3275646219135804)"
       ]
      },
      {
       "output_type": "stream",
       "stream": "stdout",
       "text": [
        "\n",
        "(203.13218894675927, 55.804445891203699, 3.3449045138888889)"
       ]
      },
      {
       "output_type": "stream",
       "stream": "stdout",
       "text": [
        "\n",
        "(203.38260079089508, 56.13004340277778, 3.3459572723765434)"
       ]
      },
      {
       "output_type": "stream",
       "stream": "stdout",
       "text": [
        "\n",
        "(203.63130883487653, 56.449484953703703, 3.3436521026234569)"
       ]
      },
      {
       "output_type": "stream",
       "stream": "stdout",
       "text": [
        "\n",
        "(203.89889371141976, 56.777593557098761, 3.3630864197530861)"
       ]
      },
      {
       "output_type": "stream",
       "stream": "stdout",
       "text": [
        "\n",
        "(204.16504147376543, 57.104682677469135, 3.3798210841049383)"
       ]
      },
      {
       "output_type": "stream",
       "stream": "stdout",
       "text": [
        "\n",
        "(204.42918209876544, 57.427807195216047, 3.3934688464506175)"
       ]
      },
      {
       "output_type": "stream",
       "stream": "stdout",
       "text": [
        "\n",
        "(204.69946614583333, 57.7643643904321, 3.4094666280864199)"
       ]
      },
      {
       "output_type": "stream",
       "stream": "stdout",
       "text": [
        "\n",
        "(204.96676745756173, 58.11775173611111, 3.4308608217592593)"
       ]
      },
      {
       "output_type": "stream",
       "stream": "stdout",
       "text": [
        "\n",
        "(205.26945650077161, 58.490243537808638, 3.4204306520061727)"
       ]
      },
      {
       "output_type": "stream",
       "stream": "stdout",
       "text": [
        "\n",
        "(205.62641541280865, 58.945176986882714, 3.4353245563271604)"
       ]
      },
      {
       "output_type": "stream",
       "stream": "stdout",
       "text": [
        "\n",
        "(205.85715856481482, 59.274444444444448, 3.4698148148148147)"
       ]
      },
      {
       "output_type": "stream",
       "stream": "stdout",
       "text": [
        "\n",
        "(205.40866415895061, 58.816276523919754, 3.39646556712963)"
       ]
      },
      {
       "output_type": "stream",
       "stream": "stdout",
       "text": [
        "\n",
        "(203.26058063271606, 55.973251832561729, 3.2777584876543209)"
       ]
      },
      {
       "output_type": "stream",
       "stream": "stdout",
       "text": [
        "\n",
        "(201.50173562885803, 53.701960841049377, 3.216091338734568)"
       ]
      },
      {
       "output_type": "stream",
       "stream": "stdout",
       "text": [
        "\n",
        "(201.03027584876543, 53.034954668209878, 3.2046392746913579)"
       ]
      },
      {
       "output_type": "stream",
       "stream": "stdout",
       "text": [
        "\n",
        "(200.88838396990741, 52.851938175154324, 3.1908463541666663)"
       ]
      },
      {
       "output_type": "stream",
       "stream": "stdout",
       "text": [
        "\n",
        "(200.86507957175928, 52.821243730709874, 3.2099884259259257)"
       ]
      },
      {
       "output_type": "stream",
       "stream": "stdout",
       "text": [
        "\n",
        "(200.80886381172837, 52.785652488425924, 3.202948977623457)"
       ]
      },
      {
       "output_type": "stream",
       "stream": "stdout",
       "text": [
        "\n",
        "(200.85087239583333, 52.855093557098769, 3.2410344328703702)"
       ]
      },
      {
       "output_type": "stream",
       "stream": "stdout",
       "text": [
        "\n",
        "(201.07049575617282, 53.123191068672838, 3.3066198881172841)"
       ]
      },
      {
       "output_type": "stream",
       "stream": "stdout",
       "text": [
        "\n",
        "(201.30905237268519, 53.406069155092595, 3.3339274691358027)"
       ]
      },
      {
       "output_type": "stream",
       "stream": "stdout",
       "text": [
        "\n",
        "(201.43079668209876, 53.548845968364198, 3.3410334683641976)"
       ]
      },
      {
       "output_type": "stream",
       "stream": "stdout",
       "text": [
        "\n",
        "(201.48519820601854, 53.606491126543204, 3.3441054205246914)"
       ]
      },
      {
       "output_type": "stream",
       "stream": "stdout",
       "text": [
        "\n",
        "(201.59598186728397, 53.729239486882712, 3.3520259452160492)"
       ]
      },
      {
       "output_type": "stream",
       "stream": "stdout",
       "text": [
        "\n",
        "(201.81998697916666, 53.977965856481482, 3.3632798032407405)"
       ]
      },
      {
       "output_type": "stream",
       "stream": "stdout",
       "text": [
        "\n",
        "(202.13339457947529, 54.351145833333334, 3.332084297839506)"
       ]
      },
      {
       "output_type": "stream",
       "stream": "stdout",
       "text": [
        "\n",
        "(202.50297164351852, 54.80367283950617, 3.3034987461419756)"
       ]
      },
      {
       "output_type": "stream",
       "stream": "stdout",
       "text": [
        "\n",
        "(202.86747636959876, 55.256126543209881, 3.2956563464506172)"
       ]
      },
      {
       "output_type": "stream",
       "stream": "stdout",
       "text": [
        "\n",
        "(203.71212432484569, 56.447844328703702, 3.3416758294753088)"
       ]
      },
      {
       "output_type": "stream",
       "stream": "stdout",
       "text": [
        "\n",
        "(203.83806375385802, 56.624239004629629, 3.3515692515432098)"
       ]
      },
      {
       "output_type": "stream",
       "stream": "stdout",
       "text": [
        "\n",
        "(204.05418981481481, 56.890759066358022, 3.3719627700617285)"
       ]
      },
      {
       "output_type": "stream",
       "stream": "stdout",
       "text": [
        "\n",
        "(204.30648967978394, 57.187690972222228, 3.3999869791666666)"
       ]
      },
      {
       "output_type": "stream",
       "stream": "stdout",
       "text": [
        "\n",
        "(204.54253713348766, 57.476341145833338, 3.4110479359567902)"
       ]
      },
      {
       "output_type": "stream",
       "stream": "stdout",
       "text": [
        "\n",
        "(204.79050877700618, 57.784621913580253, 3.4241459297839509)"
       ]
      },
      {
       "output_type": "stream",
       "stream": "stdout",
       "text": [
        "\n",
        "(205.07386959876544, 58.142544849537039, 3.4455314429012347)"
       ]
      },
      {
       "output_type": "stream",
       "stream": "stdout",
       "text": [
        "\n",
        "(205.36855468749999, 58.505767746913577, 3.4570891203703704)"
       ]
      },
      {
       "output_type": "stream",
       "stream": "stdout",
       "text": [
        "\n",
        "(205.67540027006171, 58.889301697530861, 3.4567833719135801)"
       ]
      },
      {
       "output_type": "stream",
       "stream": "stdout",
       "text": [
        "\n",
        "(205.99225356867282, 59.279620466820987, 3.4465909529320986)"
       ]
      },
      {
       "output_type": "stream",
       "stream": "stdout",
       "text": [
        "\n",
        "(206.31453896604938, 59.716255304783957, 3.4579393325617285)"
       ]
      },
      {
       "output_type": "stream",
       "stream": "stdout",
       "text": [
        "\n",
        "(206.6750573881173, 60.211006944444442, 3.4943557098765434)"
       ]
      },
      {
       "output_type": "stream",
       "stream": "stdout",
       "text": [
        "\n",
        "(206.99365162037037, 60.635647183641971, 3.4965012538580247)"
       ]
      },
      {
       "output_type": "stream",
       "stream": "stdout",
       "text": [
        "\n",
        "(207.27861014660493, 61.034021990740733, 3.5176986882716053)"
       ]
      },
      {
       "output_type": "stream",
       "stream": "stdout",
       "text": [
        "\n",
        "(206.97575376157405, 60.71164544753087, 3.4671474729938274)"
       ]
      },
      {
       "output_type": "stream",
       "stream": "stdout",
       "text": [
        "\n",
        "(204.97580198688271, 58.06949074074074, 3.3783314043209876)"
       ]
      },
      {
       "output_type": "stream",
       "stream": "stdout",
       "text": [
        "\n",
        "(203.11382667824074, 55.493017939814813, 3.3005767746913581)"
       ]
      },
      {
       "output_type": "stream",
       "stream": "stdout",
       "text": [
        "\n",
        "(202.58173900462964, 54.661383101851847, 3.2805531442901237)"
       ]
      },
      {
       "output_type": "stream",
       "stream": "stdout",
       "text": [
        "\n",
        "(202.41405333719138, 54.443994984567901, 3.254786361882716)"
       ]
      },
      {
       "output_type": "stream",
       "stream": "stdout",
       "text": [
        "\n",
        "(202.42035783179011, 54.45980902777778, 3.2910850694444442)"
       ]
      },
      {
       "output_type": "stream",
       "stream": "stdout",
       "text": [
        "\n",
        "(202.44409577546296, 54.505664062500003, 3.3156254822530862)"
       ]
      },
      {
       "output_type": "stream",
       "stream": "stdout",
       "text": [
        "\n",
        "(202.55689911265432, 54.664326292438275, 3.3624397183641976)"
       ]
      },
      {
       "output_type": "stream",
       "stream": "stdout",
       "text": [
        "\n",
        "(202.78728443287036, 54.933009741512343, 3.3952189429012343)"
       ]
      },
      {
       "output_type": "stream",
       "stream": "stdout",
       "text": [
        "\n",
        "(202.98310378086418, 55.181297260802467, 3.4051895254629629)"
       ]
      },
      {
       "output_type": "stream",
       "stream": "stdout",
       "text": [
        "\n",
        "(203.03066840277779, 55.246164641203706, 3.4076798804012349)"
       ]
      },
      {
       "output_type": "stream",
       "stream": "stdout",
       "text": [
        "\n",
        "(203.01175298996915, 55.212456114969136, 3.4025786072530866)"
       ]
      },
      {
       "output_type": "stream",
       "stream": "stdout",
       "text": [
        "\n",
        "(203.05782648533952, 55.27015721450617, 3.4142838541666665)"
       ]
      },
      {
       "output_type": "stream",
       "stream": "stdout",
       "text": [
        "\n",
        "(203.21960599922838, 55.465938464506173, 3.4381250000000003)"
       ]
      },
      {
       "output_type": "stream",
       "stream": "stdout",
       "text": [
        "\n",
        "(203.46733072916666, 55.774300733024688, 3.429450713734568)"
       ]
      },
      {
       "output_type": "stream",
       "stream": "stdout",
       "text": [
        "\n",
        "(203.81560715663582, 56.219928626543215, 3.3888315007716048)"
       ]
      },
      {
       "output_type": "stream",
       "stream": "stdout",
       "text": [
        "\n",
        "(204.17802565586419, 56.689972993827155, 3.362067901234568)"
       ]
      },
      {
       "output_type": "stream",
       "stream": "stdout",
       "text": [
        "\n",
        "(204.91529465663578, 57.797295042438272, 3.3991521990740741)"
       ]
      },
      {
       "output_type": "stream",
       "stream": "stdout",
       "text": [
        "\n",
        "(205.02862606095678, 57.946422646604937, 3.395590277777778)"
       ]
      },
      {
       "output_type": "stream",
       "stream": "stdout",
       "text": [
        "\n",
        "(205.21888744212964, 58.194546682098768, 3.4174787808641973)"
       ]
      },
      {
       "output_type": "stream",
       "stream": "stdout",
       "text": [
        "\n",
        "(205.4284900655864, 58.460968846450612, 3.4430507330246911)"
       ]
      },
      {
       "output_type": "stream",
       "stream": "stdout",
       "text": [
        "\n",
        "(205.61637779706791, 58.692568479938274, 3.4682118055555553)"
       ]
      },
      {
       "output_type": "stream",
       "stream": "stdout",
       "text": [
        "\n",
        "(205.80675250771603, 58.928262442129629, 3.4866131365740745)"
       ]
      },
      {
       "output_type": "stream",
       "stream": "stdout",
       "text": [
        "\n",
        "(206.00506799768519, 59.187790798611111, 3.5019473379629629)"
       ]
      },
      {
       "output_type": "stream",
       "stream": "stdout",
       "text": [
        "\n",
        "(206.21518277391976, 59.453634741512346, 3.5195640432098765)"
       ]
      },
      {
       "output_type": "stream",
       "stream": "stdout",
       "text": [
        "\n",
        "(206.44869020061728, 59.774860146604944, 3.500096450617284)"
       ]
      },
      {
       "output_type": "stream",
       "stream": "stdout",
       "text": [
        "\n",
        "(206.73273967978395, 60.17696759259259, 3.4860932677469134)"
       ]
      },
      {
       "output_type": "stream",
       "stream": "stdout",
       "text": [
        "\n",
        "(207.05267071759258, 60.638432195216048, 3.480292727623457)"
       ]
      },
      {
       "output_type": "stream",
       "stream": "stdout",
       "text": [
        "\n",
        "(207.31312307098764, 61.000106095679008, 3.493335262345679)"
       ]
      },
      {
       "output_type": "stream",
       "stream": "stdout",
       "text": [
        "\n",
        "(206.94397617669753, 60.613365644290127, 3.4599619020061732)"
       ]
      },
      {
       "output_type": "stream",
       "stream": "stdout",
       "text": [
        "\n",
        "(205.00537229938271, 58.062160493827157, 3.3835720486111112)"
       ]
      },
      {
       "output_type": "stream",
       "stream": "stdout",
       "text": [
        "\n",
        "(199.51822048611112, 51.697292148919757, 3.1741150655864199)"
       ]
      },
      {
       "output_type": "stream",
       "stream": "stdout",
       "text": [
        "\n",
        "(199.09754436728397, 51.39032407407408, 3.1289043209876541)"
       ]
      },
      {
       "output_type": "stream",
       "stream": "stdout",
       "text": [
        "\n",
        "(198.87850212191358, 51.321589023919756, 3.1111824845679013)"
       ]
      },
      {
       "output_type": "stream",
       "stream": "stdout",
       "text": [
        "\n",
        "(198.86428288966047, 51.447591628086421, 3.1298263888888891)"
       ]
      },
      {
       "output_type": "stream",
       "stream": "stdout",
       "text": [
        "\n",
        "(198.98404996141974, 51.697718460648147, 3.1478472222222225)"
       ]
      },
      {
       "output_type": "stream",
       "stream": "stdout",
       "text": [
        "\n",
        "(199.26137538580249, 52.121935763888892, 3.1307031250000001)"
       ]
      },
      {
       "output_type": "stream",
       "stream": "stdout",
       "text": [
        "\n",
        "(199.62306471836419, 52.612087673611114, 3.1139930555555559)"
       ]
      },
      {
       "output_type": "stream",
       "stream": "stdout",
       "text": [
        "\n",
        "(199.76779947916668, 52.823943865740738, 3.1247309027777779)"
       ]
      },
      {
       "output_type": "stream",
       "stream": "stdout",
       "text": [
        "\n",
        "(199.71045331790123, 52.76588831018519, 3.1099898726851851)"
       ]
      },
      {
       "output_type": "stream",
       "stream": "stdout",
       "text": [
        "\n",
        "(199.62045621141976, 52.66938126929012, 3.0897463348765433)"
       ]
      },
      {
       "output_type": "stream",
       "stream": "stdout",
       "text": [
        "\n",
        "(199.65033227237655, 52.712229456018513, 3.1133048804012344)"
       ]
      },
      {
       "output_type": "stream",
       "stream": "stdout",
       "text": [
        "\n",
        "(199.78652054398148, 52.896313175154319, 3.1583116319444446)"
       ]
      },
      {
       "output_type": "stream",
       "stream": "stdout",
       "text": [
        "\n",
        "(199.97416570216049, 53.158263888888889, 3.1913618827160493)"
       ]
      },
      {
       "output_type": "stream",
       "stream": "stdout",
       "text": [
        "\n",
        "(200.19900848765431, 53.468292824074069, 3.2060069444444448)"
       ]
      },
      {
       "output_type": "stream",
       "stream": "stdout",
       "text": [
        "\n",
        "(200.42891878858026, 53.797613329475304, 3.1925491898148146)"
       ]
      },
      {
       "output_type": "stream",
       "stream": "stdout",
       "text": [
        "\n",
        "(200.70196903935184, 54.164540412808641, 3.2140489969135806)"
       ]
      },
      {
       "output_type": "stream",
       "stream": "stdout",
       "text": [
        "\n",
        "(200.94387586805556, 54.484582851080248, 3.2208555169753086)"
       ]
      },
      {
       "output_type": "stream",
       "stream": "stdout",
       "text": [
        "\n",
        "(201.37266541280863, 55.165769193672844, 3.1517245370370373)"
       ]
      },
      {
       "output_type": "stream",
       "stream": "stdout",
       "text": [
        "\n",
        "(201.46313609182099, 55.283942418981482, 3.1510561342592593)"
       ]
      },
      {
       "output_type": "stream",
       "stream": "stdout",
       "text": [
        "\n",
        "(201.59599054783951, 55.451585165895068, 3.1894077932098766)"
       ]
      },
      {
       "output_type": "stream",
       "stream": "stdout",
       "text": [
        "\n",
        "(201.73398533950618, 55.612073206018522, 3.2195582561728395)"
       ]
      },
      {
       "output_type": "stream",
       "stream": "stdout",
       "text": [
        "\n",
        "(201.8793677662037, 55.789949845679011, 3.2478554205246914)"
       ]
      },
      {
       "output_type": "stream",
       "stream": "stdout",
       "text": [
        "\n",
        "(202.09255883487654, 56.052607060185188, 3.2811313657407406)"
       ]
      },
      {
       "output_type": "stream",
       "stream": "stdout",
       "text": [
        "\n",
        "(202.36514998070987, 56.385974151234564, 3.2889313271604936)"
       ]
      },
      {
       "output_type": "stream",
       "stream": "stdout",
       "text": [
        "\n",
        "(202.66213831018518, 56.756826292438276, 3.2900245949074076)"
       ]
      },
      {
       "output_type": "stream",
       "stream": "stdout",
       "text": [
        "\n",
        "(202.59388165509259, 56.718834394290127, 3.2628882137345681)"
       ]
      },
      {
       "output_type": "stream",
       "stream": "stdout",
       "text": [
        "\n",
        "(200.95968267746915, 54.796836419753092, 3.1719584297839507)"
       ]
      },
      {
       "output_type": "stream",
       "stream": "stdout",
       "text": [
        "\n",
        "(198.52909336419754, 51.718550829475312, 3.0136467978395061)"
       ]
      },
      {
       "output_type": "stream",
       "stream": "stdout",
       "text": [
        "\n",
        "(197.70675106095678, 50.647720389660492, 2.9794251543209875)"
       ]
      },
      {
       "output_type": "stream",
       "stream": "stdout",
       "text": [
        "\n",
        "(197.42471354166665, 50.299353298611109, 2.9681708140432099)"
       ]
      },
      {
       "output_type": "stream",
       "stream": "stdout",
       "text": [
        "\n",
        "(197.36066165123458, 50.249535590277773, 2.9980439814814814)"
       ]
      },
      {
       "output_type": "stream",
       "stream": "stdout",
       "text": [
        "\n",
        "(197.37989004629631, 50.309947916666665, 3.0353703703703703)"
       ]
      },
      {
       "output_type": "stream",
       "stream": "stdout",
       "text": [
        "\n",
        "(197.43836564429014, 50.412997685185182, 3.0684423225308644)"
       ]
      },
      {
       "output_type": "stream",
       "stream": "stdout",
       "text": [
        "\n",
        "(197.62821228780865, 50.664936824845675, 3.1120833333333335)"
       ]
      },
      {
       "output_type": "stream",
       "stream": "stdout",
       "text": [
        "\n",
        "(197.88234374999999, 50.974739101080246, 3.145145158179012)"
       ]
      },
      {
       "output_type": "stream",
       "stream": "stdout",
       "text": [
        "\n",
        "(197.9818325617284, 51.117335551697529, 3.1514443479938272)"
       ]
      },
      {
       "output_type": "stream",
       "stream": "stdout",
       "text": [
        "\n",
        "(197.95981674382716, 51.095418595679014, 3.1452256944444446)"
       ]
      },
      {
       "output_type": "stream",
       "stream": "stdout",
       "text": [
        "\n",
        "(197.94217689043211, 51.083474151234569, 3.1304624807098769)"
       ]
      },
      {
       "output_type": "stream",
       "stream": "stdout",
       "text": [
        "\n",
        "(198.0794352816358, 51.238718653549384, 3.1524377893518518)"
       ]
      },
      {
       "output_type": "stream",
       "stream": "stdout",
       "text": [
        "\n",
        "(198.33015335648147, 51.529608892746914, 3.1614838927469133)"
       ]
      },
      {
       "output_type": "stream",
       "stream": "stdout",
       "text": [
        "\n",
        "(198.64986352237653, 51.938233989197535, 3.1170244984567903)"
       ]
      },
      {
       "output_type": "stream",
       "stream": "stdout",
       "text": [
        "\n",
        "(199.02486352237653, 52.394629629629627, 3.0942597415123458)"
       ]
      },
      {
       "output_type": "stream",
       "stream": "stdout",
       "text": [
        "\n",
        "(199.42402440200618, 52.890497685185188, 3.1224758873456788)"
       ]
      },
      {
       "output_type": "stream",
       "stream": "stdout",
       "text": [
        "\n",
        "(199.79019772376543, 53.31449411651235, 3.1436583719135802)"
       ]
      },
      {
       "output_type": "stream",
       "stream": "stdout",
       "text": [
        "\n",
        "(200.15530719521607, 53.762594521604939, 3.1854181134259258)"
       ]
      },
      {
       "output_type": "stream",
       "stream": "stdout",
       "text": [
        "\n",
        "(200.44523051697533, 54.108478973765436, 3.1847550154320987)"
       ]
      },
      {
       "output_type": "stream",
       "stream": "stdout",
       "text": [
        "\n",
        "(200.72396942515434, 54.43283950617284, 3.2102092978395058)"
       ]
      },
      {
       "output_type": "stream",
       "stream": "stdout",
       "text": [
        "\n",
        "(200.95847752700618, 54.720785590277778, 3.2356346450617286)"
       ]
      },
      {
       "output_type": "stream",
       "stream": "stdout",
       "text": [
        "\n",
        "(201.50883728780866, 55.447557388117282, 3.1608010223765435)"
       ]
      },
      {
       "output_type": "stream",
       "stream": "stdout",
       "text": [
        "\n",
        "(201.62653694058642, 55.604588155864199, 3.1707658179012346)"
       ]
      },
      {
       "output_type": "stream",
       "stream": "stdout",
       "text": [
        "\n",
        "(201.82255883487656, 55.853069058641978, 3.2112553047839509)"
       ]
      },
      {
       "output_type": "stream",
       "stream": "stdout",
       "text": [
        "\n",
        "(202.05801311728396, 56.163163097993831, 3.2440306712962963)"
       ]
      },
      {
       "output_type": "stream",
       "stream": "stdout",
       "text": [
        "\n",
        "(202.36106963734568, 56.543177083333333, 3.2586125578703702)"
       ]
      },
      {
       "output_type": "stream",
       "stream": "stdout",
       "text": [
        "\n",
        "(202.69672453703703, 56.973420138888883, 3.274344135802469)"
       ]
      },
      {
       "output_type": "stream",
       "stream": "stdout",
       "text": [
        "\n",
        "(202.89604986496914, 57.232071759259256, 3.2857421874999999)"
       ]
      },
      {
       "output_type": "stream",
       "stream": "stdout",
       "text": [
        "\n",
        "(202.13575810185185, 56.414641685956788, 3.199639274691358)"
       ]
      },
      {
       "output_type": "stream",
       "stream": "stdout",
       "text": [
        "\n",
        "(199.65998360339506, 53.108707561728394, 3.0956862461419754)"
       ]
      },
      {
       "output_type": "stream",
       "stream": "stdout",
       "text": [
        "\n",
        "(197.83878809799381, 50.906347415123456, 2.9999223572530864)"
       ]
      },
      {
       "output_type": "stream",
       "stream": "stdout",
       "text": [
        "\n",
        "(197.40606915509258, 50.318006847993829, 2.9724985532407406)"
       ]
      },
      {
       "output_type": "stream",
       "stream": "stdout",
       "text": [
        "\n",
        "(197.23875868055555, 50.145627893518515, 2.9742158564814813)"
       ]
      },
      {
       "output_type": "stream",
       "stream": "stdout",
       "text": [
        "\n",
        "(197.19670187114198, 50.14281732253086, 2.9897887731481485)"
       ]
      },
      {
       "output_type": "stream",
       "stream": "stdout",
       "text": [
        "\n",
        "(197.15312644675925, 50.127616705246915, 3.0068643904320989)"
       ]
      },
      {
       "output_type": "stream",
       "stream": "stdout",
       "text": [
        "\n",
        "(197.20205777391973, 50.208543595679011, 3.0390215084876542)"
       ]
      },
      {
       "output_type": "stream",
       "stream": "stdout",
       "text": [
        "\n",
        "(197.4441806520062, 50.50077112268518, 3.0925217013888888)"
       ]
      },
      {
       "output_type": "stream",
       "stream": "stdout",
       "text": [
        "\n",
        "(197.67244454089507, 50.778364197530863, 3.1148668981481484)"
       ]
      },
      {
       "output_type": "stream",
       "stream": "stdout",
       "text": [
        "\n",
        "(197.74480806327159, 50.884293499228399, 3.1284114583333333)"
       ]
      },
      {
       "output_type": "stream",
       "stream": "stdout",
       "text": [
        "\n",
        "(197.77045621141977, 50.918461130401234, 3.1318441358024693)"
       ]
      },
      {
       "output_type": "stream",
       "stream": "stdout",
       "text": [
        "\n",
        "(197.85154755015432, 51.011115933641975, 3.1401499807098765)"
       ]
      },
      {
       "output_type": "stream",
       "stream": "stdout",
       "text": [
        "\n",
        "(198.03600308641975, 51.22830873842593, 3.1566936728395061)"
       ]
      },
      {
       "output_type": "stream",
       "stream": "stdout",
       "text": [
        "\n",
        "(198.32263213734569, 51.593716242283946, 3.1401147762345678)"
       ]
      },
      {
       "output_type": "stream",
       "stream": "stdout",
       "text": [
        "\n",
        "(198.70225935570986, 52.05900318287037, 3.1081838348765429)"
       ]
      },
      {
       "output_type": "stream",
       "stream": "stdout",
       "text": [
        "\n",
        "(199.12089891975307, 52.559771412037037, 3.1027970679012347)"
       ]
      },
      {
       "output_type": "stream",
       "stream": "stdout",
       "text": [
        "\n",
        "(199.53243152006172, 53.056720196759258, 3.1152912808641973)"
       ]
      },
      {
       "output_type": "stream",
       "stream": "stdout",
       "text": [
        "\n",
        "(199.89472656250001, 53.504374517746911, 3.1315576774691358)"
       ]
      },
      {
       "output_type": "stream",
       "stream": "stdout",
       "text": [
        "\n",
        "(200.20973186728395, 53.894806616512341, 3.1624165702160494)"
       ]
      },
      {
       "output_type": "stream",
       "stream": "stdout",
       "text": [
        "\n",
        "(200.50042293595678, 54.235083912037034, 3.1797521219135803)"
       ]
      },
      {
       "output_type": "stream",
       "stream": "stdout",
       "text": [
        "\n",
        "(200.78855372299384, 54.557654320987659, 3.2133998842592595)"
       ]
      },
      {
       "output_type": "stream",
       "stream": "stdout",
       "text": [
        "\n",
        "(201.0494569830247, 54.859200906635806, 3.2282981288580248)"
       ]
      },
      {
       "output_type": "stream",
       "stream": "stdout",
       "text": [
        "\n",
        "(201.31801601080249, 55.197147955246912, 3.2449156057098767)"
       ]
      },
      {
       "output_type": "stream",
       "stream": "stdout",
       "text": [
        "\n",
        "(201.85676215277778, 55.913584587191359, 3.193879726080247)"
       ]
      },
      {
       "output_type": "stream",
       "stream": "stdout",
       "text": [
        "\n",
        "(201.97178337191357, 56.072053433641976, 3.2046894290123458)"
       ]
      },
      {
       "output_type": "stream",
       "stream": "stdout",
       "text": [
        "\n",
        "(202.18985484182099, 56.358155864197535, 3.2440523726851853)"
       ]
      },
      {
       "output_type": "stream",
       "stream": "stdout",
       "text": [
        "\n",
        "(202.50211033950617, 56.734563078703701, 3.2861829668209879)"
       ]
      },
      {
       "output_type": "stream",
       "stream": "stdout",
       "text": [
        "\n",
        "(202.82861979166665, 57.177584876543207, 3.2848485725308643)"
       ]
      },
      {
       "output_type": "stream",
       "stream": "stdout",
       "text": [
        "\n",
        "(203.11470630787036, 57.565608121141977, 3.2885416666666667)"
       ]
      },
      {
       "output_type": "stream",
       "stream": "stdout",
       "text": [
        "\n",
        "(202.8806211419753, 57.336228298611111, 3.2302999614197532)"
       ]
      },
      {
       "output_type": "stream",
       "stream": "stdout",
       "text": [
        "\n",
        "(200.75716386959877, 54.767132523148149, 3.1120953896604937)"
       ]
      },
      {
       "output_type": "stream",
       "stream": "stdout",
       "text": [
        "\n",
        "(198.36466869212964, 51.743628954475305, 3.0147125771604935)"
       ]
      },
      {
       "output_type": "stream",
       "stream": "stdout",
       "text": [
        "\n",
        "(197.68939911265434, 50.816189718364193, 2.9737099729938272)"
       ]
      },
      {
       "output_type": "stream",
       "stream": "stdout",
       "text": [
        "\n",
        "(197.47093798225308, 50.543084490740739, 2.9509852430555554)"
       ]
      },
      {
       "output_type": "stream",
       "stream": "stdout",
       "text": [
        "\n",
        "(197.44251929012347, 50.537916184413582, 2.9761921296296294)"
       ]
      },
      {
       "output_type": "stream",
       "stream": "stdout",
       "text": [
        "\n",
        "(197.42450520833336, 50.562151813271605, 3.0030256558641977)"
       ]
      },
      {
       "output_type": "stream",
       "stream": "stdout",
       "text": [
        "\n",
        "(197.4829904513889, 50.635319733796294, 3.0356655092592595)"
       ]
      },
      {
       "output_type": "stream",
       "stream": "stdout",
       "text": [
        "\n",
        "(197.69892216435184, 50.883436053240743, 3.1018031442901233)"
       ]
      },
      {
       "output_type": "stream",
       "stream": "stdout",
       "text": [
        "\n",
        "(197.92436005015432, 51.164307002314814, 3.1381090856481482)"
       ]
      },
      {
       "output_type": "stream",
       "stream": "stdout",
       "text": [
        "\n",
        "(198.01068431712963, 51.264258777006177, 3.152104070216049)"
       ]
      },
      {
       "output_type": "stream",
       "stream": "stdout",
       "text": [
        "\n",
        "(197.99661651234567, 51.270830922067901, 3.1449175347222225)"
       ]
      },
      {
       "output_type": "stream",
       "stream": "stdout",
       "text": [
        "\n",
        "(198.03379292052472, 51.318724922839507, 3.1563724922839507)"
       ]
      },
      {
       "output_type": "stream",
       "stream": "stdout",
       "text": [
        "\n",
        "(198.17665123456788, 51.486808449074076, 3.1678968942901236)"
       ]
      },
      {
       "output_type": "stream",
       "stream": "stdout",
       "text": [
        "\n",
        "(198.43376784336419, 51.807400655864193, 3.1587003279320989)"
       ]
      },
      {
       "output_type": "stream",
       "stream": "stdout",
       "text": [
        "\n",
        "(198.77190152391975, 52.218490065586415, 3.1221006944444447)"
       ]
      },
      {
       "output_type": "stream",
       "stream": "stdout",
       "text": [
        "\n",
        "(199.14900559413582, 52.674993730709879, 3.099445891203704)"
       ]
      },
      {
       "output_type": "stream",
       "stream": "stdout",
       "text": [
        "\n",
        "(199.51522472993827, 53.135251736111115, 3.1201760223765436)"
       ]
      },
      {
       "output_type": "stream",
       "stream": "stdout",
       "text": [
        "\n",
        "(199.8922762345679, 53.567990933641973, 3.1434548611111111)"
       ]
      },
      {
       "output_type": "stream",
       "stream": "stdout",
       "text": [
        "\n",
        "(200.23641589506173, 54.006705729166669, 3.1761385995370373)"
       ]
      },
      {
       "output_type": "stream",
       "stream": "stdout",
       "text": [
        "\n",
        "(200.50658709490742, 54.340870949074073, 3.1967052469135804)"
       ]
      },
      {
       "output_type": "stream",
       "stream": "stdout",
       "text": [
        "\n",
        "(200.77312451774691, 54.650979456018518, 3.2101909722222222)"
       ]
      },
      {
       "output_type": "stream",
       "stream": "stdout",
       "text": [
        "\n",
        "(200.99183256172839, 54.916442901234568, 3.2102879050925925)"
       ]
      },
      {
       "output_type": "stream",
       "stream": "stdout",
       "text": [
        "\n",
        "(201.25546296296295, 55.22552420910494, 3.2204918981481478)"
       ]
      },
      {
       "output_type": "stream",
       "stream": "stdout",
       "text": [
        "\n",
        "(201.49918209876543, 55.533816550925927, 3.2424778163580248)"
       ]
      },
      {
       "output_type": "stream",
       "stream": "stdout",
       "text": [
        "\n",
        "(202.01153115354938, 56.290011091820993, 3.1556597222222225)"
       ]
      },
      {
       "output_type": "stream",
       "stream": "stdout",
       "text": [
        "\n",
        "(202.13380063657408, 56.450464409722223, 3.1779234182098768)"
       ]
      },
      {
       "output_type": "stream",
       "stream": "stdout",
       "text": [
        "\n",
        "(202.38495852623458, 56.762894000771603, 3.2320785108024692)"
       ]
      },
      {
       "output_type": "stream",
       "stream": "stdout",
       "text": [
        "\n",
        "(202.6943677662037, 57.141323302469132, 3.2595264274691358)"
       ]
      },
      {
       "output_type": "stream",
       "stream": "stdout",
       "text": [
        "\n",
        "(203.00570601851854, 57.553826678240739, 3.276930941358025)"
       ]
      },
      {
       "output_type": "stream",
       "stream": "stdout",
       "text": [
        "\n",
        "(202.87594666280864, 57.437143614969138, 3.2448784722222221)"
       ]
      },
      {
       "output_type": "stream",
       "stream": "stdout",
       "text": [
        "\n",
        "(201.20628327546297, 55.386067708333336, 3.1579475308641975)"
       ]
      },
      {
       "output_type": "stream",
       "stream": "stdout",
       "text": [
        "\n",
        "(198.67878423996913, 52.152342785493822, 3.0060720486111112)"
       ]
      },
      {
       "output_type": "stream",
       "stream": "stdout",
       "text": [
        "\n",
        "(197.97468171296296, 51.213565779320987, 2.9821903935185183)"
       ]
      },
      {
       "output_type": "stream",
       "stream": "stdout",
       "text": [
        "\n",
        "(197.73540943287037, 50.920215567129624, 2.9768041087962964)"
       ]
      },
      {
       "output_type": "stream",
       "stream": "stdout",
       "text": [
        "\n",
        "(197.74855131172839, 50.971328124999999, 3.0128544560185184)"
       ]
      },
      {
       "output_type": "stream",
       "stream": "stdout",
       "text": [
        "\n",
        "(197.8695987654321, 51.144738618827162, 3.0698070987654322)"
       ]
      },
      {
       "output_type": "stream",
       "stream": "stdout",
       "text": [
        "\n",
        "(198.08104504243829, 51.414914158950616, 3.1109755979938272)"
       ]
      },
      {
       "output_type": "stream",
       "stream": "stdout",
       "text": [
        "\n",
        "(198.39981963734567, 51.83914448302469, 3.1111193094135805)"
       ]
      },
      {
       "output_type": "stream",
       "stream": "stdout",
       "text": [
        "\n",
        "(198.59416618441358, 52.096862943672839, 3.1294945987654321)"
       ]
      },
      {
       "output_type": "stream",
       "stream": "stdout",
       "text": [
        "\n",
        "(198.58007040895063, 52.091754918981486, 3.1055425347222223)"
       ]
      },
      {
       "output_type": "stream",
       "stream": "stdout",
       "text": [
        "\n",
        "(198.44239245756171, 51.958119695216048, 3.067607060185185)"
       ]
      },
      {
       "output_type": "stream",
       "stream": "stdout",
       "text": [
        "\n",
        "(198.3967751736111, 51.901166570216049, 3.0711029128086418)"
       ]
      },
      {
       "output_type": "stream",
       "stream": "stdout",
       "text": [
        "\n",
        "(198.51341386959876, 52.020336130401233, 3.1177729552469136)"
       ]
      },
      {
       "output_type": "stream",
       "stream": "stdout",
       "text": [
        "\n",
        "(198.76158854166667, 52.303321759259262, 3.1651900077160491)"
       ]
      },
      {
       "output_type": "stream",
       "stream": "stdout",
       "text": [
        "\n",
        "(199.08638937114196, 52.690738811728394, 3.1599368248456789)"
       ]
      },
      {
       "output_type": "stream",
       "stream": "stdout",
       "text": [
        "\n",
        "(199.44768470293209, 53.132539544753087, 3.1498615933641974)"
       ]
      },
      {
       "output_type": "stream",
       "stream": "stdout",
       "text": [
        "\n",
        "(199.81435667438274, 53.600729648919753, 3.136648823302469)"
       ]
      },
      {
       "output_type": "stream",
       "stream": "stdout",
       "text": [
        "\n",
        "(200.1506674382716, 54.049097222222223, 3.1644613233024694)"
       ]
      },
      {
       "output_type": "stream",
       "stream": "stdout",
       "text": [
        "\n",
        "(200.43707658179011, 54.411929012345681, 3.1912572337962963)"
       ]
      },
      {
       "output_type": "stream",
       "stream": "stdout",
       "text": [
        "\n",
        "(200.68445119598766, 54.715396412037038, 3.2127932098765433)"
       ]
      },
      {
       "output_type": "stream",
       "stream": "stdout",
       "text": [
        "\n",
        "(200.89208960262346, 54.97133487654321, 3.2450520833333334)"
       ]
      },
      {
       "output_type": "stream",
       "stream": "stdout",
       "text": [
        "\n",
        "(201.06515190972223, 55.193063271604935, 3.2589400077160491)"
       ]
      },
      {
       "output_type": "stream",
       "stream": "stdout",
       "text": [
        "\n",
        "(201.25001784336419, 55.431094714506173, 3.2526683063271604)"
       ]
      },
      {
       "output_type": "stream",
       "stream": "stdout",
       "text": [
        "\n",
        "(201.47906876929011, 55.717284915123457, 3.256639660493827)"
       ]
      },
      {
       "output_type": "stream",
       "stream": "stdout",
       "text": [
        "\n",
        "(201.75995756172841, 56.07322675540123, 3.2639424189814816)"
       ]
      },
      {
       "output_type": "stream",
       "stream": "stdout",
       "text": [
        "\n",
        "(202.34217110339506, 56.971097125771607, 3.1692322530864199)"
       ]
      },
      {
       "output_type": "stream",
       "stream": "stdout",
       "text": [
        "\n",
        "(202.27117235725308, 56.901222511574076, 3.1433675733024695)"
       ]
      },
      {
       "output_type": "stream",
       "stream": "stdout",
       "text": [
        "\n",
        "(200.83432388117285, 55.226127989969136, 3.0704031635802469)"
       ]
      },
      {
       "output_type": "stream",
       "stream": "stdout",
       "text": [
        "\n",
        "(198.27316888503086, 51.988592785493829, 2.9428636188271606)"
       ]
      },
      {
       "output_type": "stream",
       "stream": "stdout",
       "text": [
        "\n",
        "(197.34926311728395, 50.747224633487654, 2.9170847800925923)"
       ]
      },
      {
       "output_type": "stream",
       "stream": "stdout",
       "text": [
        "\n",
        "(197.02275993441359, 50.36209490740741, 2.9019256365740742)"
       ]
      },
      {
       "output_type": "stream",
       "stream": "stdout",
       "text": [
        "\n",
        "(196.9564626736111, 50.323088348765431, 2.9294251543209877)"
       ]
      },
      {
       "output_type": "stream",
       "stream": "stdout",
       "text": [
        "\n",
        "(197.06052083333333, 50.487444540895062, 2.9961149691358027)"
       ]
      },
      {
       "output_type": "stream",
       "stream": "stdout",
       "text": [
        "\n",
        "(197.29327208719135, 50.795802469135801, 3.0617959104938275)"
       ]
      },
      {
       "output_type": "stream",
       "stream": "stdout",
       "text": [
        "\n",
        "(197.63293547453705, 51.227108410493827, 3.0907050540123455)"
       ]
      },
      {
       "output_type": "stream",
       "stream": "stdout",
       "text": [
        "\n",
        "(197.89543788580247, 51.559297839506172, 3.095478877314815)"
       ]
      },
      {
       "output_type": "stream",
       "stream": "stdout",
       "text": [
        "\n",
        "(197.93708863811727, 51.631371527777773, 3.1080039544753086)"
       ]
      },
      {
       "output_type": "stream",
       "stream": "stdout",
       "text": [
        "\n",
        "(197.83928530092592, 51.517742091049385, 3.0690706983024691)"
       ]
      },
      {
       "output_type": "stream",
       "stream": "stdout",
       "text": [
        "\n",
        "(197.77935233410494, 51.452797067901237, 3.0624040316358023)"
       ]
      },
      {
       "output_type": "stream",
       "stream": "stdout",
       "text": [
        "\n",
        "(197.87718846450619, 51.573069540895062, 3.1092558834876542)"
       ]
      },
      {
       "output_type": "stream",
       "stream": "stdout",
       "text": [
        "\n",
        "(198.09658709490739, 51.840262827932101, 3.1416652199074071)"
       ]
      },
      {
       "output_type": "stream",
       "stream": "stdout",
       "text": [
        "\n",
        "(198.39165075231483, 52.205506365740739, 3.1209350887345679)"
       ]
      },
      {
       "output_type": "stream",
       "stream": "stdout",
       "text": [
        "\n",
        "(198.78281973379629, 52.690927854938266, 3.0982720871913583)"
       ]
      },
      {
       "output_type": "stream",
       "stream": "stdout",
       "text": [
        "\n",
        "(199.1739592978395, 53.17317370756173, 3.0958680555555556)"
       ]
      },
      {
       "output_type": "stream",
       "stream": "stdout",
       "text": [
        "\n",
        "(199.55921392746913, 53.651976273148151, 3.1228284143518517)"
       ]
      },
      {
       "output_type": "stream",
       "stream": "stdout",
       "text": [
        "\n",
        "(199.89498408564816, 54.055987172067901, 3.1537774884259262)"
       ]
      },
      {
       "output_type": "stream",
       "stream": "stdout",
       "text": [
        "\n",
        "(200.1942365933642, 54.408401331018524, 3.1955357831790123)"
       ]
      },
      {
       "output_type": "stream",
       "stream": "stdout",
       "text": [
        "\n",
        "(200.44664737654321, 54.72983410493827, 3.2109461805555557)"
       ]
      },
      {
       "output_type": "stream",
       "stream": "stdout",
       "text": [
        "\n",
        "(200.67311487268518, 55.010986207561729, 3.2234780092592592)"
       ]
      },
      {
       "output_type": "stream",
       "stream": "stdout",
       "text": [
        "\n",
        "(200.8678448109568, 55.246755401234566, 3.2285730131172841)"
       ]
      },
      {
       "output_type": "stream",
       "stream": "stdout",
       "text": [
        "\n",
        "(201.08788917824074, 55.520376157407405, 3.2370703124999998)"
       ]
      },
      {
       "output_type": "stream",
       "stream": "stdout",
       "text": [
        "\n",
        "(201.36488522376544, 55.848671392746908, 3.2438985339506172)"
       ]
      },
      {
       "output_type": "stream",
       "stream": "stdout",
       "text": [
        "\n",
        "(201.66491753472221, 56.254650366512344, 3.2337683256172842)"
       ]
      },
      {
       "output_type": "stream",
       "stream": "stdout",
       "text": [
        "\n",
        "(201.99957658179011, 56.681568769290124, 3.2474585262345679)"
       ]
      },
      {
       "output_type": "stream",
       "stream": "stdout",
       "text": [
        "\n",
        "(201.92603539737655, 56.63656684027778, 3.2160363618827157)"
       ]
      },
      {
       "output_type": "stream",
       "stream": "stdout",
       "text": [
        "\n",
        "(200.07027343750002, 54.504896315586414, 3.1004456018518516)"
       ]
      },
      {
       "output_type": "stream",
       "stream": "stdout",
       "text": [
        "\n",
        "(197.33928481867284, 50.521660879629636, 3.0026644483024691)"
       ]
      },
      {
       "output_type": "stream",
       "stream": "stdout",
       "text": [
        "\n",
        "(196.76415412808643, 49.912937403549385, 2.9281997492283951)"
       ]
      },
      {
       "output_type": "stream",
       "stream": "stdout",
       "text": [
        "\n",
        "(196.30007667824074, 49.534848090277784, 2.8975940393518522)"
       ]
      },
      {
       "output_type": "stream",
       "stream": "stdout",
       "text": [
        "\n",
        "(196.10761140046296, 49.466167534722224, 2.9006119791666665)"
       ]
      },
      {
       "output_type": "stream",
       "stream": "stdout",
       "text": [
        "\n",
        "(196.02507426697531, 49.495882040895061, 2.9240962577160494)"
       ]
      },
      {
       "output_type": "stream",
       "stream": "stdout",
       "text": [
        "\n",
        "(195.99023582175926, 49.531535976080249, 2.9371489197530867)"
       ]
      },
      {
       "output_type": "stream",
       "stream": "stdout",
       "text": [
        "\n",
        "(196.12391830632714, 49.738392168209877, 3.0002334104938271)"
       ]
      },
      {
       "output_type": "stream",
       "stream": "stdout",
       "text": [
        "\n",
        "(196.33295283564814, 50.016830632716051, 3.0459095293209875)"
       ]
      },
      {
       "output_type": "stream",
       "stream": "stdout",
       "text": [
        "\n",
        "(196.44669897762347, 50.166179591049385, 3.0691121720679013)"
       ]
      },
      {
       "output_type": "stream",
       "stream": "stdout",
       "text": [
        "\n",
        "(196.42571180555555, 50.161538387345679, 3.0552165316358026)"
       ]
      },
      {
       "output_type": "stream",
       "stream": "stdout",
       "text": [
        "\n",
        "(196.42968460648149, 50.170692515432101, 3.0607716049382714)"
       ]
      },
      {
       "output_type": "stream",
       "stream": "stdout",
       "text": [
        "\n",
        "(196.55630787037038, 50.322254050925928, 3.0975462962962963)"
       ]
      },
      {
       "output_type": "stream",
       "stream": "stdout",
       "text": [
        "\n",
        "(196.80046730324077, 50.622573302469135, 3.0916097608024695)"
       ]
      },
      {
       "output_type": "stream",
       "stream": "stdout",
       "text": [
        "\n",
        "(197.13372829861112, 51.023297646604938, 3.0556071566358027)"
       ]
      },
      {
       "output_type": "stream",
       "stream": "stdout",
       "text": [
        "\n",
        "(197.53458092206787, 51.495749421296296, 3.0466830632716051)"
       ]
      },
      {
       "output_type": "stream",
       "stream": "stdout",
       "text": [
        "\n",
        "(197.92299864969135, 51.980318287037036, 3.0410976080246912)"
       ]
      },
      {
       "output_type": "stream",
       "stream": "stdout",
       "text": [
        "\n",
        "(198.34034770447531, 52.459872202932097, 3.0662278163580248)"
       ]
      },
      {
       "output_type": "stream",
       "stream": "stdout",
       "text": [
        "\n",
        "(198.72228395061731, 52.894018614969141, 3.108731674382716)"
       ]
      },
      {
       "output_type": "stream",
       "stream": "stdout",
       "text": [
        "\n",
        "(199.02158805941357, 53.25849633487654, 3.1330560378086423)"
       ]
      },
      {
       "output_type": "stream",
       "stream": "stdout",
       "text": [
        "\n",
        "(199.30778211805557, 53.589831693672835, 3.160991030092593)"
       ]
      },
      {
       "output_type": "stream",
       "stream": "stdout",
       "text": [
        "\n",
        "(199.56394097222221, 53.915285976080249, 3.1670273919753082)"
       ]
      },
      {
       "output_type": "stream",
       "stream": "stdout",
       "text": [
        "\n",
        "(199.81025366512344, 54.224281925154322, 3.1760657793209877)"
       ]
      },
      {
       "output_type": "stream",
       "stream": "stdout",
       "text": [
        "\n",
        "(200.05873360339504, 54.515778838734569, 3.1826866319444442)"
       ]
      },
      {
       "output_type": "stream",
       "stream": "stdout",
       "text": [
        "\n",
        "(200.31235580632716, 54.814867380401232, 3.1863671875000001)"
       ]
      },
      {
       "output_type": "stream",
       "stream": "stdout",
       "text": [
        "\n",
        "(200.60619164737653, 55.169936342592592, 3.2077763310185183)"
       ]
      },
      {
       "output_type": "stream",
       "stream": "stdout",
       "text": [
        "\n",
        "(200.92611255787037, 55.586592399691355, 3.2235913387345678)"
       ]
      },
      {
       "output_type": "stream",
       "stream": "stdout",
       "text": [
        "\n",
        "(201.28274691358024, 56.034264081790127, 3.2378375771604939)"
       ]
      },
      {
       "output_type": "stream",
       "stream": "stdout",
       "text": [
        "\n",
        "(201.56497926311729, 56.39167197145062, 3.246737075617284)"
       ]
      },
      {
       "output_type": "stream",
       "stream": "stdout",
       "text": [
        "\n",
        "(201.24425154320986, 56.070178433641978, 3.1693156828703706)"
       ]
      },
      {
       "output_type": "stream",
       "stream": "stdout",
       "text": [
        "\n",
        "(198.84427131558641, 53.20524546682099, 3.0357773919753086)"
       ]
      },
      {
       "output_type": "stream",
       "stream": "stdout",
       "text": [
        "\n",
        "(196.31176938657407, 50.149406346450618, 2.9091907793209875)"
       ]
      },
      {
       "output_type": "stream",
       "stream": "stdout",
       "text": [
        "\n",
        "(195.18257089120371, 48.485369888117283, 2.914490740740741)"
       ]
      },
      {
       "output_type": "stream",
       "stream": "stdout",
       "text": [
        "\n",
        "(195.16286265432097, 48.531643036265429, 2.901021412037037)"
       ]
      },
      {
       "output_type": "stream",
       "stream": "stdout",
       "text": [
        "\n",
        "(195.23880545910492, 48.721282310956788, 2.9326866319444442)"
       ]
      },
      {
       "output_type": "stream",
       "stream": "stdout",
       "text": [
        "\n",
        "(195.29735869984569, 48.892840952932097, 2.9567004243827162)"
       ]
      },
      {
       "output_type": "stream",
       "stream": "stdout",
       "text": [
        "\n",
        "(195.37205729166666, 49.036039255401235, 2.9866970486111111)"
       ]
      },
      {
       "output_type": "stream",
       "stream": "stdout",
       "text": [
        "\n",
        "(195.6210127314815, 49.354417438271604, 3.018501639660494)"
       ]
      },
      {
       "output_type": "stream",
       "stream": "stdout",
       "text": [
        "\n",
        "(195.87294704861111, 49.693019386574072, 3.0042881944444444)"
       ]
      },
      {
       "output_type": "stream",
       "stream": "stdout",
       "text": [
        "\n",
        "(196.00668451003085, 49.865937982253087, 3.0110493827160494)"
       ]
      },
      {
       "output_type": "stream",
       "stream": "stdout",
       "text": [
        "\n",
        "(196.04612413194445, 49.919463734567906, 3.0160165895061732)"
       ]
      },
      {
       "output_type": "stream",
       "stream": "stdout",
       "text": [
        "\n",
        "(196.13019386574075, 50.005796199845676, 3.0335353973765433)"
       ]
      },
      {
       "output_type": "stream",
       "stream": "stdout",
       "text": [
        "\n",
        "(196.31135464891977, 50.219701967592592, 3.0531013695987657)"
       ]
      },
      {
       "output_type": "stream",
       "stream": "stdout",
       "text": [
        "\n",
        "(196.63526186342594, 50.591483892746915, 3.0555762924382712)"
       ]
      },
      {
       "output_type": "stream",
       "stream": "stdout",
       "text": [
        "\n",
        "(197.03458815586418, 51.078128375771605, 3.0359095293209877)"
       ]
      },
      {
       "output_type": "stream",
       "stream": "stdout",
       "text": [
        "\n",
        "(197.47929735725307, 51.597611400462959, 3.0484944058641972)"
       ]
      },
      {
       "output_type": "stream",
       "stream": "stdout",
       "text": [
        "\n",
        "(197.91319251543212, 52.10855034722222, 3.0703858024691359)"
       ]
      },
      {
       "output_type": "stream",
       "stream": "stdout",
       "text": [
        "\n",
        "(198.31767216435185, 52.582631172839505, 3.1001041666666667)"
       ]
      },
      {
       "output_type": "stream",
       "stream": "stdout",
       "text": [
        "\n",
        "(198.63947289737655, 52.963860918209882, 3.1090335648148146)"
       ]
      },
      {
       "output_type": "stream",
       "stream": "stdout",
       "text": [
        "\n",
        "(198.96167197145064, 53.342756076388888, 3.1389824459876543)"
       ]
      },
      {
       "output_type": "stream",
       "stream": "stdout",
       "text": [
        "\n",
        "(199.23833912037037, 53.660242091049376, 3.1505647183641976)"
       ]
      },
      {
       "output_type": "stream",
       "stream": "stdout",
       "text": [
        "\n",
        "(199.50622636959878, 53.96542341820988, 3.1546764081790122)"
       ]
      },
      {
       "output_type": "stream",
       "stream": "stdout",
       "text": [
        "\n",
        "(199.78627218364196, 54.289501832561726, 3.1804446373456789)"
       ]
      },
      {
       "output_type": "stream",
       "stream": "stdout",
       "text": [
        "\n",
        "(200.05782648533952, 54.615096932870372, 3.1873586998456789)"
       ]
      },
      {
       "output_type": "stream",
       "stream": "stdout",
       "text": [
        "\n",
        "(200.32636815200618, 54.935948591820988, 3.203156346450617)"
       ]
      },
      {
       "output_type": "stream",
       "stream": "stdout",
       "text": [
        "\n",
        "(200.65702064043211, 55.329951292438274, 3.2126432291666664)"
       ]
      },
      {
       "output_type": "stream",
       "stream": "stdout",
       "text": [
        "\n",
        "(201.04619164737656, 55.802101176697533, 3.2232007137345677)"
       ]
      },
      {
       "output_type": "stream",
       "stream": "stdout",
       "text": [
        "\n",
        "(201.42872058256171, 56.261745756172843, 3.2467438271604938)"
       ]
      },
      {
       "output_type": "stream",
       "stream": "stdout",
       "text": [
        "\n",
        "(201.5634437692901, 56.454982156635801, 3.2454002700617286)"
       ]
      },
      {
       "output_type": "stream",
       "stream": "stdout",
       "text": [
        "\n",
        "(200.50388599537035, 55.354613715277779, 3.1412065972222223)"
       ]
      },
      {
       "output_type": "stream",
       "stream": "stdout",
       "text": [
        "\n",
        "(197.91341676311728, 52.044987461419751, 3.0093195408950617)"
       ]
      },
      {
       "output_type": "stream",
       "stream": "stdout",
       "text": [
        "\n",
        "(196.27773775077159, 50.101163194444446, 2.9464453124999999)"
       ]
      },
      {
       "output_type": "stream",
       "stream": "stdout",
       "text": [
        "\n",
        "(195.96158564814817, 49.659439139660492, 2.9237162422839504)"
       ]
      },
      {
       "output_type": "stream",
       "stream": "stdout",
       "text": [
        "\n",
        "(195.72602575231483, 49.386386477623454, 2.9470201581790123)"
       ]
      },
      {
       "output_type": "stream",
       "stream": "stdout",
       "text": [
        "\n",
        "(195.81377941743827, 49.536881269290127, 2.9560069444444448)"
       ]
      },
      {
       "output_type": "stream",
       "stream": "stdout",
       "text": [
        "\n",
        "(195.98999517746913, 49.802217881944443, 2.9820273919753086)"
       ]
      },
      {
       "output_type": "stream",
       "stream": "stdout",
       "text": [
        "\n",
        "(196.32925057870372, 50.230913869598766, 2.9952242476851851)"
       ]
      },
      {
       "output_type": "stream",
       "stream": "stdout",
       "text": [
        "\n",
        "(196.67696277006172, 50.677566068672839, 3.0065171682098768)"
       ]
      },
      {
       "output_type": "stream",
       "stream": "stdout",
       "text": [
        "\n",
        "(196.79229263117284, 50.830290798611117, 3.0122458526234568)"
       ]
      },
      {
       "output_type": "stream",
       "stream": "stdout",
       "text": [
        "\n",
        "(196.75047019675927, 50.771135223765434, 2.9940764853395065)"
       ]
      },
      {
       "output_type": "stream",
       "stream": "stdout",
       "text": [
        "\n",
        "(196.68138117283951, 50.697804301697531, 2.9750694444444443)"
       ]
      },
      {
       "output_type": "stream",
       "stream": "stdout",
       "text": [
        "\n",
        "(196.73943335262345, 50.7727449845679, 3.0116044560185187)"
       ]
      },
      {
       "output_type": "stream",
       "stream": "stdout",
       "text": [
        "\n",
        "(196.93781973379629, 50.994504726080244, 3.0670331790123457)"
       ]
      },
      {
       "output_type": "stream",
       "stream": "stdout",
       "text": [
        "\n",
        "(197.24584201388888, 51.368967013888891, 3.0825636574074071)"
       ]
      },
      {
       "output_type": "stream",
       "stream": "stdout",
       "text": [
        "\n",
        "(197.58533854166666, 51.791833043981484, 3.064256847993827)"
       ]
      },
      {
       "output_type": "stream",
       "stream": "stdout",
       "text": [
        "\n",
        "(197.99054976851852, 52.257220775462962, 3.0704562114197529)"
       ]
      },
      {
       "output_type": "stream",
       "stream": "stdout",
       "text": [
        "\n",
        "(198.33876687885802, 52.683634259259257, 3.0850303819444442)"
       ]
      },
      {
       "output_type": "stream",
       "stream": "stdout",
       "text": [
        "\n",
        "(198.67650028935185, 53.088524787808645, 3.096455439814815)"
       ]
      },
      {
       "output_type": "stream",
       "stream": "stdout",
       "text": [
        "\n",
        "(198.92820312500001, 53.407663483796298, 3.1204817708333334)"
       ]
      },
      {
       "output_type": "stream",
       "stream": "stdout",
       "text": [
        "\n",
        "(199.15360580632714, 53.68004484953704, 3.1417091049382715)"
       ]
      },
      {
       "output_type": "stream",
       "stream": "stdout",
       "text": [
        "\n",
        "(199.32179253472222, 53.878979070216047, 3.1552469135802466)"
       ]
      },
      {
       "output_type": "stream",
       "stream": "stdout",
       "text": [
        "\n",
        "(199.51481143904323, 54.09973476080247, 3.1757267554012345)"
       ]
      },
      {
       "output_type": "stream",
       "stream": "stdout",
       "text": [
        "\n",
        "(199.77433883101853, 54.39292582947531, 3.1882855902777778)"
       ]
      },
      {
       "output_type": "stream",
       "stream": "stdout",
       "text": [
        "\n",
        "(200.07210841049383, 54.768459683641971, 3.1828168402777774)"
       ]
      },
      {
       "output_type": "stream",
       "stream": "stdout",
       "text": [
        "\n",
        "(200.36838011188271, 55.1534693287037, 3.1810300925925925)"
       ]
      },
      {
       "output_type": "stream",
       "stream": "stdout",
       "text": [
        "\n",
        "(200.37553192515432, 55.207087191358028, 3.163967496141975)"
       ]
      },
      {
       "output_type": "stream",
       "stream": "stdout",
       "text": [
        "\n",
        "(199.1155010609568, 53.867688078703708, 3.0647574266975308)"
       ]
      },
      {
       "output_type": "stream",
       "stream": "stdout",
       "text": [
        "\n",
        "(196.7169039351852, 50.917638406635803, 2.9309235146604937)"
       ]
      },
      {
       "output_type": "stream",
       "stream": "stdout",
       "text": [
        "\n",
        "(195.85101176697532, 49.831927565586419, 2.895486111111111)"
       ]
      },
      {
       "output_type": "stream",
       "stream": "stdout",
       "text": [
        "\n",
        "(195.58988088348764, 49.505771604938268, 2.8783690200617285)"
       ]
      },
      {
       "output_type": "stream",
       "stream": "stdout",
       "text": [
        "\n",
        "(195.56633101851853, 49.513560474537037, 2.9185503472222223)"
       ]
      },
      {
       "output_type": "stream",
       "stream": "stdout",
       "text": [
        "\n",
        "(195.69399353780864, 49.682886284722223, 2.9693648726851851)"
       ]
      },
      {
       "output_type": "stream",
       "stream": "stdout",
       "text": [
        "\n",
        "(196.00163580246914, 50.08130931712963, 3.0216960841049381)"
       ]
      },
      {
       "output_type": "stream",
       "stream": "stdout",
       "text": [
        "\n",
        "(196.43288049768518, 50.623742283950619, 3.0166854745370371)"
       ]
      },
      {
       "output_type": "stream",
       "stream": "stdout",
       "text": [
        "\n",
        "(197.00736641589506, 51.442566550925932, 2.9823403742283952)"
       ]
      },
      {
       "output_type": "stream",
       "stream": "stdout",
       "text": [
        "\n",
        "(196.93795187114196, 51.36560860339506, 2.9321879822530867)"
       ]
      },
      {
       "output_type": "stream",
       "stream": "stdout",
       "text": [
        "\n",
        "(196.77950858410492, 51.164257812499997, 2.8900356867283952)"
       ]
      },
      {
       "output_type": "stream",
       "stream": "stdout",
       "text": [
        "\n",
        "(196.71164882330245, 51.08243778935185, 2.8976972415123456)"
       ]
      },
      {
       "output_type": "stream",
       "stream": "stdout",
       "text": [
        "\n",
        "(196.83789110725309, 51.20690297067901, 2.9538551311728396)"
       ]
      },
      {
       "output_type": "stream",
       "stream": "stdout",
       "text": [
        "\n",
        "(197.09628954475309, 51.483554205246911, 3.0260908564814812)"
       ]
      },
      {
       "output_type": "stream",
       "stream": "stdout",
       "text": [
        "\n",
        "(197.4270770640432, 51.872572337962964, 3.067505787037037)"
       ]
      },
      {
       "output_type": "stream",
       "stream": "stdout",
       "text": [
        "\n",
        "(197.81561053240742, 52.328736014660493, 3.0747564621913579)"
       ]
      },
      {
       "output_type": "stream",
       "stream": "stdout",
       "text": [
        "\n",
        "(198.21590663580247, 52.801741898148144, 3.0576890432098764)"
       ]
      },
      {
       "output_type": "stream",
       "stream": "stdout",
       "text": [
        "\n",
        "(198.60684702932099, 53.267025945216055, 3.0666927083333331)"
       ]
      },
      {
       "output_type": "stream",
       "stream": "stdout",
       "text": [
        "\n",
        "(198.94690441743828, 53.684655671296298, 3.1032614776234566)"
       ]
      },
      {
       "output_type": "stream",
       "stream": "stdout",
       "text": [
        "\n",
        "(199.23806327160494, 54.038030478395058, 3.1421132330246913)"
       ]
      },
      {
       "output_type": "stream",
       "stream": "stdout",
       "text": [
        "\n",
        "(199.4807171103395, 54.327068865740742, 3.1800028935185183)"
       ]
      },
      {
       "output_type": "stream",
       "stream": "stdout",
       "text": [
        "\n",
        "(199.69876012731481, 54.579118923611112, 3.2068668016975308)"
       ]
      },
      {
       "output_type": "stream",
       "stream": "stdout",
       "text": [
        "\n",
        "(199.93172984182098, 54.859655671296295, 3.2116893325617286)"
       ]
      },
      {
       "output_type": "stream",
       "stream": "stdout",
       "text": [
        "\n",
        "(200.19898244598764, 55.207266589506169, 3.1909317129629633)"
       ]
      },
      {
       "output_type": "stream",
       "stream": "stdout",
       "text": [
        "\n",
        "(200.51576099537039, 55.587873263888888, 3.1918301504629629)"
       ]
      },
      {
       "output_type": "stream",
       "stream": "stdout",
       "text": [
        "\n",
        "(200.58001591435183, 55.691337770061729, 3.1838570601851854)"
       ]
      },
      {
       "output_type": "stream",
       "stream": "stdout",
       "text": [
        "\n",
        "(199.37884789737655, 54.398723958333328, 3.0832552083333336)"
       ]
      },
      {
       "output_type": "stream",
       "stream": "stdout",
       "text": [
        "\n",
        "(196.75057581018518, 51.041005979938276, 2.9360382908950617)"
       ]
      },
      {
       "output_type": "stream",
       "stream": "stdout",
       "text": [
        "\n",
        "(195.18900221836421, 49.302870370370371, 2.878708526234568)"
       ]
      },
      {
       "output_type": "stream",
       "stream": "stdout",
       "text": [
        "\n",
        "(194.86023485725309, 48.878372395833331, 2.8577546296296297)"
       ]
      },
      {
       "output_type": "stream",
       "stream": "stdout",
       "text": [
        "\n",
        "(194.78644145447532, 48.822827932098768, 2.8756655092592593)"
       ]
      },
      {
       "output_type": "stream",
       "stream": "stdout",
       "text": [
        "\n",
        "(194.82819444444445, 48.912453703703704, 2.9198553240740739)"
       ]
      },
      {
       "output_type": "stream",
       "stream": "stdout",
       "text": [
        "\n",
        "(194.88793595679013, 48.996541763117285, 2.9434191743827158)"
       ]
      },
      {
       "output_type": "stream",
       "stream": "stdout",
       "text": [
        "\n",
        "(195.08046103395063, 49.223382523148153, 2.9962528935185184)"
       ]
      },
      {
       "output_type": "stream",
       "stream": "stdout",
       "text": [
        "\n",
        "(195.34910300925927, 49.557602237654322, 3.0231558641975309)"
       ]
      },
      {
       "output_type": "stream",
       "stream": "stdout",
       "text": [
        "\n",
        "(195.50946180555556, 49.776938175154321, 3.0410194830246913)"
       ]
      },
      {
       "output_type": "stream",
       "stream": "stdout",
       "text": [
        "\n",
        "(195.51457175925924, 49.779511477623458, 3.0344463734567899)"
       ]
      },
      {
       "output_type": "stream",
       "stream": "stdout",
       "text": [
        "\n",
        "(195.52765962577161, 49.788887442129628, 3.0303631365740742)"
       ]
      },
      {
       "output_type": "stream",
       "stream": "stdout",
       "text": [
        "\n",
        "(195.64560860339506, 49.907811053240742, 3.048052662037037)"
       ]
      },
      {
       "output_type": "stream",
       "stream": "stdout",
       "text": [
        "\n",
        "(196.20623167438271, 50.571855709876544, 2.9423427854938273)"
       ]
      },
      {
       "output_type": "stream",
       "stream": "stdout",
       "text": [
        "\n",
        "(196.37094666280865, 50.806636284722224, 2.94957706404321)"
       ]
      },
      {
       "output_type": "stream",
       "stream": "stdout",
       "text": [
        "\n",
        "(196.72355758101853, 51.23778163580247, 2.9836115933641976)"
       ]
      },
      {
       "output_type": "stream",
       "stream": "stdout",
       "text": [
        "\n",
        "(197.11776957947529, 51.707526041666668, 2.9995380015432103)"
       ]
      },
      {
       "output_type": "stream",
       "stream": "stdout",
       "text": [
        "\n",
        "(197.53793836805556, 52.187449363425927, 3.0342062114197534)"
       ]
      },
      {
       "output_type": "stream",
       "stream": "stdout",
       "text": [
        "\n",
        "(197.88904658564815, 52.601385513117286, 3.0561742862654322)"
       ]
      },
      {
       "output_type": "stream",
       "stream": "stdout",
       "text": [
        "\n",
        "(198.19383825231481, 52.953950135030865, 3.0834881365740743)"
       ]
      },
      {
       "output_type": "stream",
       "stream": "stdout",
       "text": [
        "\n",
        "(198.46443624614199, 53.294062017746917, 3.0899758873456791)"
       ]
      },
      {
       "output_type": "stream",
       "stream": "stdout",
       "text": [
        "\n",
        "(198.74893759645062, 53.61801215277778, 3.1069087577160492)"
       ]
      },
      {
       "output_type": "stream",
       "stream": "stdout",
       "text": [
        "\n",
        "(199.0115205439815, 53.916575038580241, 3.1210310570987652)"
       ]
      },
      {
       "output_type": "stream",
       "stream": "stdout",
       "text": [
        "\n",
        "(199.26488184799382, 54.214535590277784, 3.1425086805555558)"
       ]
      },
      {
       "output_type": "stream",
       "stream": "stdout",
       "text": [
        "\n",
        "(199.54814332561727, 54.541616994598769, 3.155128761574074)"
       ]
      },
      {
       "output_type": "stream",
       "stream": "stdout",
       "text": [
        "\n",
        "(199.86852382330247, 54.927374614197532, 3.1739356674382715)"
       ]
      },
      {
       "output_type": "stream",
       "stream": "stdout",
       "text": [
        "\n",
        "(200.20695408950616, 55.336107735339503, 3.1787119020061732)"
       ]
      },
      {
       "output_type": "stream",
       "stream": "stdout",
       "text": [
        "\n",
        "(200.60140866126545, 55.80878665123457, 3.1824107831790123)"
       ]
      },
      {
       "output_type": "stream",
       "stream": "stdout",
       "text": [
        "\n",
        "(200.65176697530865, 55.892711709104937, 3.1788286072530862)"
       ]
      },
      {
       "output_type": "stream",
       "stream": "stdout",
       "text": [
        "\n",
        "(199.16203751929012, 54.239366319444443, 3.0664583333333333)"
       ]
      },
      {
       "output_type": "stream",
       "stream": "stdout",
       "text": [
        "\n",
        "(196.42772328317901, 50.713502604166663, 2.9237225115740744)"
       ]
      },
      {
       "output_type": "stream",
       "stream": "stdout",
       "text": [
        "\n",
        "(195.18772231867285, 49.116445794753091, 2.8390991512345676)"
       ]
      },
      {
       "output_type": "stream",
       "stream": "stdout",
       "text": [
        "\n",
        "(194.81634355709875, 48.764262635030867, 2.8165895061728392)"
       ]
      },
      {
       "output_type": "stream",
       "stream": "stdout",
       "text": [
        "\n",
        "(194.74751977237653, 48.768530092592592, 2.8502536651234567)"
       ]
      },
      {
       "output_type": "stream",
       "stream": "stdout",
       "text": [
        "\n",
        "(194.72173755787037, 48.78914110725308, 2.8715663580246913)"
       ]
      },
      {
       "output_type": "stream",
       "stream": "stdout",
       "text": [
        "\n",
        "(194.67123601466051, 48.778594714506177, 2.8842582947530864)"
       ]
      },
      {
       "output_type": "stream",
       "stream": "stdout",
       "text": [
        "\n",
        "(194.78229070216051, 48.930724344135797, 2.936510898919753)"
       ]
      },
      {
       "output_type": "stream",
       "stream": "stdout",
       "text": [
        "\n",
        "(195.02352575231481, 49.240984278549384, 2.9876528742283952)"
       ]
      },
      {
       "output_type": "stream",
       "stream": "stdout",
       "text": [
        "\n",
        "(195.20886332947529, 49.471141975308647, 3.0006467013888889)"
       ]
      },
      {
       "output_type": "stream",
       "stream": "stdout",
       "text": [
        "\n",
        "(195.27032021604938, 49.558125000000004, 3.0098037229938273)"
       ]
      },
      {
       "output_type": "stream",
       "stream": "stdout",
       "text": [
        "\n",
        "(195.31732060185183, 49.607358699845676, 3.0090456211419752)"
       ]
      },
      {
       "output_type": "stream",
       "stream": "stdout",
       "text": [
        "\n",
        "(195.4463744212963, 49.754939236111113, 3.0371503665123458)"
       ]
      },
      {
       "output_type": "stream",
       "stream": "stdout",
       "text": [
        "\n",
        "(195.68770543981481, 50.032969714506173, 3.0430705054012344)"
       ]
      },
      {
       "output_type": "stream",
       "stream": "stdout",
       "text": [
        "\n",
        "(196.03482831790123, 50.431668595679007, 3.0214920910493825)"
       ]
      },
      {
       "output_type": "stream",
       "stream": "stdout",
       "text": [
        "\n",
        "(196.84982687114197, 51.453816068672836, 2.9477729552469136)"
       ]
      },
      {
       "output_type": "stream",
       "stream": "stdout",
       "text": [
        "\n",
        "(196.99738184799384, 51.65305989583333, 2.9643340084876542)"
       ]
      },
      {
       "output_type": "stream",
       "stream": "stdout",
       "text": [
        "\n",
        "(197.30426938657408, 52.014708236882718, 2.9982788387345676)"
       ]
      },
      {
       "output_type": "stream",
       "stream": "stdout",
       "text": [
        "\n",
        "(197.62930121527779, 52.38037374614197, 3.0345693479938269)"
       ]
      },
      {
       "output_type": "stream",
       "stream": "stdout",
       "text": [
        "\n",
        "(197.89803240740741, 52.709336902006171, 3.0494719328703703)"
       ]
      },
      {
       "output_type": "stream",
       "stream": "stdout",
       "text": [
        "\n",
        "(198.14133535879628, 53.00098524305556, 3.0763758680555555)"
       ]
      },
      {
       "output_type": "stream",
       "stream": "stdout",
       "text": [
        "\n",
        "(198.40542148919752, 53.290392554012342, 3.1104118441358022)"
       ]
      },
      {
       "output_type": "stream",
       "stream": "stdout",
       "text": [
        "\n",
        "(198.69139081790124, 53.609862075617279, 3.1276702353395063)"
       ]
      },
      {
       "output_type": "stream",
       "stream": "stdout",
       "text": [
        "\n",
        "(198.9817361111111, 53.941160783179008, 3.1455912422839507)"
       ]
      },
      {
       "output_type": "stream",
       "stream": "stdout",
       "text": [
        "\n",
        "(199.24795138888891, 54.255378568672839, 3.1472005208333331)"
       ]
      },
      {
       "output_type": "stream",
       "stream": "stdout",
       "text": [
        "\n",
        "(199.53947964891975, 54.604375482253083, 3.1461897183641976)"
       ]
      },
      {
       "output_type": "stream",
       "stream": "stdout",
       "text": [
        "\n",
        "(199.85439236111111, 54.975032310956792, 3.155921585648148)"
       ]
      },
      {
       "output_type": "stream",
       "stream": "stdout",
       "text": [
        "\n",
        "(200.16798900462965, 55.364456983024688, 3.1709751157407404)"
       ]
      },
      {
       "output_type": "stream",
       "stream": "stdout",
       "text": [
        "\n",
        "(200.53274739583333, 55.804539448302471, 3.1778525270061726)"
       ]
      },
      {
       "output_type": "stream",
       "stream": "stdout",
       "text": [
        "\n",
        "(200.85503134645063, 56.227986593364193, 3.1974223572530867)"
       ]
      },
      {
       "output_type": "stream",
       "stream": "stdout",
       "text": [
        "\n",
        "(200.72219907407407, 56.107615258487655, 3.1559799382716052)"
       ]
      },
      {
       "output_type": "stream",
       "stream": "stdout",
       "text": [
        "\n",
        "(198.7840099344136, 53.843122106481481, 3.0534804205246915)"
       ]
      },
      {
       "output_type": "stream",
       "stream": "stdout",
       "text": [
        "\n",
        "(196.02525414737653, 50.371304976851853, 2.9014375964506174)"
       ]
      },
      {
       "output_type": "stream",
       "stream": "stdout",
       "text": [
        "\n",
        "(195.20379533179013, 49.301017071759254, 2.8527498070987658)"
       ]
      },
      {
       "output_type": "stream",
       "stream": "stdout",
       "text": [
        "\n",
        "(194.9270563271605, 49.008475115740737, 2.825405574845679)"
       ]
      },
      {
       "output_type": "stream",
       "stream": "stdout",
       "text": [
        "\n",
        "(194.8763102816358, 48.993872010030863, 2.853699363425926)"
       ]
      },
      {
       "output_type": "stream",
       "stream": "stdout",
       "text": [
        "\n",
        "(194.86759018132716, 49.030421006944444, 2.8764038387345678)"
       ]
      },
      {
       "output_type": "stream",
       "stream": "stdout",
       "text": [
        "\n",
        "(194.89280719521605, 49.089603105709877, 2.9108805941358025)"
       ]
      },
      {
       "output_type": "stream",
       "stream": "stdout",
       "text": [
        "\n",
        "(195.09433256172841, 49.327684702932103, 2.971512827932099)"
       ]
      },
      {
       "output_type": "stream",
       "stream": "stdout",
       "text": [
        "\n",
        "(195.34566261574074, 49.626376350308639, 3.0006119791666666)"
       ]
      },
      {
       "output_type": "stream",
       "stream": "stdout",
       "text": [
        "\n",
        "(195.46537037037038, 49.779734760802469, 3.0138956404320987)"
       ]
      },
      {
       "output_type": "stream",
       "stream": "stdout",
       "text": [
        "\n",
        "(195.49726417824075, 49.807668788580251, 3.0156630979938273)"
       ]
      },
      {
       "output_type": "stream",
       "stream": "stdout",
       "text": [
        "\n",
        "(195.52757908950619, 49.843157310956791, 3.0120751350308641)"
       ]
      },
      {
       "output_type": "stream",
       "stream": "stdout",
       "text": [
        "\n",
        "(195.67371961805554, 50.016500771604939, 3.0232301311728396)"
       ]
      },
      {
       "output_type": "stream",
       "stream": "stdout",
       "text": [
        "\n",
        "(195.94722270447531, 50.331465567129626, 3.0323273533950617)"
       ]
      },
      {
       "output_type": "stream",
       "stream": "stdout",
       "text": [
        "\n",
        "(196.31237461419755, 50.749290123456788, 3.0168422067901233)"
       ]
      },
      {
       "output_type": "stream",
       "stream": "stdout",
       "text": [
        "\n",
        "(197.13946084104938, 51.777919560185182, 2.9778274498456789)"
       ]
      },
      {
       "output_type": "stream",
       "stream": "stdout",
       "text": [
        "\n",
        "(197.28505545910494, 51.971179591049378, 2.9861549961419751)"
       ]
      },
      {
       "output_type": "stream",
       "stream": "stdout",
       "text": [
        "\n",
        "(197.56251687885802, 52.293416763117285, 3.0375776427469137)"
       ]
      },
      {
       "output_type": "stream",
       "stream": "stdout",
       "text": [
        "\n",
        "(197.85201630015433, 52.619270351080246, 3.0520785108024691)"
       ]
      },
      {
       "output_type": "stream",
       "stream": "stdout",
       "text": [
        "\n",
        "(198.14638261959877, 52.94530381944444, 3.0800260416666667)"
       ]
      },
      {
       "output_type": "stream",
       "stream": "stdout",
       "text": [
        "\n",
        "(198.40401089891975, 53.2322868441358, 3.0957479745370371)"
       ]
      },
      {
       "output_type": "stream",
       "stream": "stdout",
       "text": [
        "\n",
        "(198.64713879243826, 53.528845486111109, 3.1124840856481479)"
       ]
      },
      {
       "output_type": "stream",
       "stream": "stdout",
       "text": [
        "\n",
        "(198.89064573688273, 53.790398823302468, 3.1279981674382715)"
       ]
      },
      {
       "output_type": "stream",
       "stream": "stdout",
       "text": [
        "\n",
        "(199.15033902391977, 54.093345389660492, 3.1304277584876541)"
       ]
      },
      {
       "output_type": "stream",
       "stream": "stdout",
       "text": [
        "\n",
        "(199.43897472993828, 54.433371913580245, 3.1370809220679012)"
       ]
      },
      {
       "output_type": "stream",
       "stream": "stdout",
       "text": [
        "\n",
        "(199.7451355131173, 54.795739776234569, 3.1303197337962962)"
       ]
      },
      {
       "output_type": "stream",
       "stream": "stdout",
       "text": [
        "\n",
        "(200.10079619984569, 55.218182388117285, 3.1678756751543213)"
       ]
      },
      {
       "output_type": "stream",
       "stream": "stdout",
       "text": [
        "\n",
        "(200.48043354552468, 55.674560185185186, 3.1753737461419753)"
       ]
      },
      {
       "output_type": "stream",
       "stream": "stdout",
       "text": [
        "\n",
        "(200.85216676311731, 56.128551311728394, 3.1896648341049381)"
       ]
      },
      {
       "output_type": "stream",
       "stream": "stdout",
       "text": [
        "\n",
        "(200.88095148533952, 56.191609278549379, 3.1920953896604938)"
       ]
      },
      {
       "output_type": "stream",
       "stream": "stdout",
       "text": [
        "\n",
        "(199.45711516203704, 54.615540605709874, 3.0942264660493826)"
       ]
      },
      {
       "output_type": "stream",
       "stream": "stdout",
       "text": [
        "\n",
        "(196.841473283179, 51.327138310185184, 2.9169839891975307)"
       ]
      },
      {
       "output_type": "stream",
       "stream": "stdout",
       "text": [
        "\n",
        "(195.73381655092592, 49.99165268132716, 2.8919728973765433)"
       ]
      },
      {
       "output_type": "stream",
       "stream": "stdout",
       "text": [
        "\n",
        "(195.46500530478394, 49.632236689814818, 2.8642949459876546)"
       ]
      },
      {
       "output_type": "stream",
       "stream": "stdout",
       "text": [
        "\n",
        "(195.47995563271604, 49.640669367283955, 2.8833868634259261)"
       ]
      },
      {
       "output_type": "stream",
       "stream": "stdout",
       "text": [
        "\n",
        "(195.62158323688271, 49.826531153549382, 2.9492698688271606)"
       ]
      },
      {
       "output_type": "stream",
       "stream": "stdout",
       "text": [
        "\n",
        "(195.81945408950617, 50.069910783179012, 2.9956409143518519)"
       ]
      },
      {
       "output_type": "stream",
       "stream": "stdout",
       "text": [
        "\n",
        "(196.12913966049382, 50.464596354166666, 3.0219883294753087)"
       ]
      },
      {
       "output_type": "stream",
       "stream": "stdout",
       "text": [
        "\n",
        "(196.35508535879629, 50.751474247685181, 3.0362509645061726)"
       ]
      },
      {
       "output_type": "stream",
       "stream": "stdout",
       "text": [
        "\n",
        "(196.35935619212961, 50.778362750771599, 3.021537422839506)"
       ]
      },
      {
       "output_type": "stream",
       "stream": "stdout",
       "text": [
        "\n",
        "(196.25985194830247, 50.669148341049379, 2.9967621527777779)"
       ]
      },
      {
       "output_type": "stream",
       "stream": "stdout",
       "text": [
        "\n",
        "(196.21051167052468, 50.623728780864198, 2.9845568094135806)"
       ]
      },
      {
       "output_type": "stream",
       "stream": "stdout",
       "text": [
        "\n",
        "(196.31847559799382, 50.74304446373457, 3.0243036265432099)"
       ]
      },
      {
       "output_type": "stream",
       "stream": "stdout",
       "text": [
        "\n",
        "(196.56776379243829, 51.01248987268518, 3.0633251350308641)"
       ]
      },
      {
       "output_type": "stream",
       "stream": "stdout",
       "text": [
        "\n",
        "(196.91671778549383, 51.412024498456788, 3.0602551118827162)"
       ]
      },
      {
       "output_type": "stream",
       "stream": "stdout",
       "text": [
        "\n",
        "(197.30309751157407, 51.867053433641978, 3.0439342206790125)"
       ]
      },
      {
       "output_type": "stream",
       "stream": "stdout",
       "text": [
        "\n",
        "(198.09041184413582, 52.898654513888886, 3.0009389467592591)"
       ]
      },
      {
       "output_type": "stream",
       "stream": "stdout",
       "text": [
        "\n",
        "(198.23285059799383, 53.062336033950615, 3.0109876543209877)"
       ]
      },
      {
       "output_type": "stream",
       "stream": "stdout",
       "text": [
        "\n",
        "(198.46190345293212, 53.328741801697532, 3.0603047839506172)"
       ]
      },
      {
       "output_type": "stream",
       "stream": "stdout",
       "text": [
        "\n",
        "(198.68331790123457, 53.588236400462961, 3.0898977623456791)"
       ]
      },
      {
       "output_type": "stream",
       "stream": "stdout",
       "text": [
        "\n",
        "(198.88683352623457, 53.836530189043209, 3.1217737268518517)"
       ]
      },
      {
       "output_type": "stream",
       "stream": "stdout",
       "text": [
        "\n",
        "(199.09186583719136, 54.067207754629628, 3.1348003472222223)"
       ]
      },
      {
       "output_type": "stream",
       "stream": "stdout",
       "text": [
        "\n",
        "(199.31400221836421, 54.32301697530864, 3.1584148341049381)"
       ]
      },
      {
       "output_type": "stream",
       "stream": "stdout",
       "text": [
        "\n",
        "(199.57347559799382, 54.614320023148146, 3.1706505594135801)"
       ]
      },
      {
       "output_type": "stream",
       "stream": "stdout",
       "text": [
        "\n",
        "(199.87734905478396, 54.980751832561729, 3.1633164544753085)"
       ]
      },
      {
       "output_type": "stream",
       "stream": "stdout",
       "text": [
        "\n",
        "(200.22733072916665, 55.423504533179013, 3.1546296296296297)"
       ]
      },
      {
       "output_type": "stream",
       "stream": "stdout",
       "text": [
        "\n",
        "(200.54162133487654, 55.8215340470679, 3.1837953317901233)"
       ]
      },
      {
       "output_type": "stream",
       "stream": "stdout",
       "text": [
        "\n",
        "(200.30621576003085, 55.583633294753085, 3.1163633294753086)"
       ]
      },
      {
       "output_type": "stream",
       "stream": "stdout",
       "text": [
        "\n",
        "(198.37503375771607, 53.320759548611107, 2.9935831404320989)"
       ]
      },
      {
       "output_type": "stream",
       "stream": "stdout",
       "text": [
        "\n",
        "(196.09043402777777, 50.506766010802465, 2.8635942322530865)"
       ]
      },
      {
       "output_type": "stream",
       "stream": "stdout",
       "text": [
        "\n",
        "(195.53413724922839, 49.730931712962963, 2.8359910300925928)"
       ]
      },
      {
       "output_type": "stream",
       "stream": "stdout",
       "text": [
        "\n",
        "(195.31552710262343, 49.484653742283953, 2.8361463155864195)"
       ]
      },
      {
       "output_type": "stream",
       "stream": "stdout",
       "text": [
        "\n",
        "(195.32667341820988, 49.544429012345674, 2.8784379822530863)"
       ]
      },
      {
       "output_type": "stream",
       "stream": "stdout",
       "text": [
        "\n",
        "(195.45716917438273, 49.730162037037033, 2.9347255979938272)"
       ]
      },
      {
       "output_type": "stream",
       "stream": "stdout",
       "text": [
        "\n",
        "(195.73922116126545, 50.069264081790124, 2.9864732831790124)"
       ]
      },
      {
       "output_type": "stream",
       "stream": "stdout",
       "text": [
        "\n",
        "(196.1328486689815, 50.556091338734568, 2.9851311728395062)"
       ]
      },
      {
       "output_type": "stream",
       "stream": "stdout",
       "text": [
        "\n",
        "(196.35105951003086, 50.809375964506174, 3.0023172260802466)"
       ]
      },
      {
       "output_type": "stream",
       "stream": "stdout",
       "text": [
        "\n",
        "(196.34223861882717, 50.806056134259258, 2.9851485339506172)"
       ]
      },
      {
       "output_type": "stream",
       "stream": "stdout",
       "text": [
        "\n",
        "(196.28011043595677, 50.740838638117282, 2.9672202932098766)"
       ]
      },
      {
       "output_type": "stream",
       "stream": "stdout",
       "text": [
        "\n",
        "(196.31278163580248, 50.776677758487658, 2.9858125964506175)"
       ]
      },
      {
       "output_type": "stream",
       "stream": "stdout",
       "text": [
        "\n",
        "(196.49609760802471, 50.952817322530862, 3.0263382523148148)"
       ]
      },
      {
       "output_type": "stream",
       "stream": "stdout",
       "text": [
        "\n",
        "(196.794598283179, 51.289730902777784, 3.0437374614197532)"
       ]
      },
      {
       "output_type": "stream",
       "stream": "stdout",
       "text": [
        "\n",
        "(197.17011140046296, 51.7339134837963, 3.0252406442901236)"
       ]
      },
      {
       "output_type": "stream",
       "stream": "stdout",
       "text": [
        "\n",
        "(197.56365644290125, 52.215390624999998, 3.0218595679012346)"
       ]
      },
      {
       "output_type": "stream",
       "stream": "stdout",
       "text": [
        "\n",
        "(197.97283082561728, 52.687873263888889, 3.0462032214506176)"
       ]
      },
      {
       "output_type": "stream",
       "stream": "stdout",
       "text": [
        "\n",
        "(198.35430459104938, 53.154698109567903, 3.0892775848765432)"
       ]
      },
      {
       "output_type": "stream",
       "stream": "stdout",
       "text": [
        "\n",
        "(198.65330005787035, 53.517391493055555, 3.1056799768518522)"
       ]
      },
      {
       "output_type": "stream",
       "stream": "stdout",
       "text": [
        "\n",
        "(199.25478925540122, 54.316202739197529, 3.0502213541666663)"
       ]
      },
      {
       "output_type": "stream",
       "stream": "stdout",
       "text": [
        "\n",
        "(199.35047357253086, 54.423832465277776, 3.0629263117283951)"
       ]
      },
      {
       "output_type": "stream",
       "stream": "stdout",
       "text": [
        "\n",
        "(199.53055459104939, 54.639076967592594, 3.1041020447530863)"
       ]
      },
      {
       "output_type": "stream",
       "stream": "stdout",
       "text": [
        "\n",
        "(199.73208670910495, 54.875905671296294, 3.1388720100308642)"
       ]
      },
      {
       "output_type": "stream",
       "stream": "stdout",
       "text": [
        "\n",
        "(199.95104504243827, 55.112725694444443, 3.1697743055555554)"
       ]
      },
      {
       "output_type": "stream",
       "stream": "stdout",
       "text": [
        "\n",
        "(200.20764467592593, 55.401476658950621, 3.1852768132716052)"
       ]
      },
      {
       "output_type": "stream",
       "stream": "stdout",
       "text": [
        "\n",
        "(200.5325569058642, 55.779482542438274, 3.1847844328703703)"
       ]
      },
      {
       "output_type": "stream",
       "stream": "stdout",
       "text": [
        "\n",
        "(200.88101755401235, 56.196953607253086, 3.177816840277778)"
       ]
      },
      {
       "output_type": "stream",
       "stream": "stdout",
       "text": [
        "\n",
        "(201.23674816743826, 56.664788773148153, 3.19123649691358)"
       ]
      },
      {
       "output_type": "stream",
       "stream": "stdout",
       "text": [
        "\n",
        "(201.13406201774691, 56.579570312499996, 3.1571002121913581)"
       ]
      },
      {
       "output_type": "stream",
       "stream": "stdout",
       "text": [
        "\n",
        "(199.21054880401235, 54.2883169367284, 3.0388806905864194)"
       ]
      },
      {
       "output_type": "stream",
       "stream": "stdout",
       "text": [
        "\n",
        "(196.714246720679, 51.049634452160497, 2.9185122492283955)"
       ]
      },
      {
       "output_type": "stream",
       "stream": "stdout",
       "text": [
        "\n",
        "(195.71818094135801, 49.718274016203708, 2.8687567515432102)"
       ]
      },
      {
       "output_type": "stream",
       "stream": "stdout",
       "text": [
        "\n",
        "(195.4939197530864, 49.491552372685184, 2.8688599537037036)"
       ]
      },
      {
       "output_type": "stream",
       "stream": "stdout",
       "text": [
        "\n",
        "(195.47830680941357, 49.521517650462961, 2.8968928433641974)"
       ]
      },
      {
       "output_type": "stream",
       "stream": "stdout",
       "text": [
        "\n",
        "(195.47994743441359, 49.574596836419751, 2.9278462577160496)"
       ]
      },
      {
       "output_type": "stream",
       "stream": "stdout",
       "text": [
        "\n",
        "(195.49360773533951, 49.629647955246909, 2.9512350501543212)"
       ]
      },
      {
       "output_type": "stream",
       "stream": "stdout",
       "text": [
        "\n",
        "(195.67725212191357, 49.872152777777778, 2.9976359953703704)"
       ]
      },
      {
       "output_type": "stream",
       "stream": "stdout",
       "text": [
        "\n",
        "(195.93084924768519, 50.195929301697532, 3.0187070794753086)"
       ]
      },
      {
       "output_type": "stream",
       "stream": "stdout",
       "text": [
        "\n",
        "(196.09635947145063, 50.388016975308645, 3.0353877314814817)"
       ]
      },
      {
       "output_type": "stream",
       "stream": "stdout",
       "text": [
        "\n",
        "(196.14757330246914, 50.428161651234568, 3.0329253472222222)"
       ]
      },
      {
       "output_type": "stream",
       "stream": "stdout",
       "text": [
        "\n",
        "(196.19451051311728, 50.46042824074074, 3.0395269097222224)"
       ]
      },
      {
       "output_type": "stream",
       "stream": "stdout",
       "text": [
        "\n",
        "(196.32948157793211, 50.613331404320988, 3.0648095100308641)"
       ]
      },
      {
       "output_type": "stream",
       "stream": "stdout",
       "text": [
        "\n",
        "(196.59270543981484, 50.922019193672838, 3.0760127314814816)"
       ]
      },
      {
       "output_type": "stream",
       "stream": "stdout",
       "text": [
        "\n",
        "(196.94338879243827, 51.335108989197529, 3.0521474729938269)"
       ]
      },
      {
       "output_type": "stream",
       "stream": "stdout",
       "text": [
        "\n",
        "(197.35295765817901, 51.818805459104944, 3.0273109567901235)"
       ]
      },
      {
       "output_type": "stream",
       "stream": "stdout",
       "text": [
        "\n",
        "(197.77351900077159, 52.339062499999997, 3.044962384259259)"
       ]
      }
     ]
    },
    {
     "cell_type": "markdown",
     "metadata": {},
     "source": [
      "Because the process of obtaining the color components takes a long time. We save it to a local file."
     ]
    },
    {
     "cell_type": "code",
     "collapsed": false,
     "input": [
      "def writeToFile(fileName, rL, gL, bL):\n",
      "    l = [rL, gL, bL]\n",
      "    numpy.savetxt(fileName, l)\n",
      "writeToFile('a.txt', rL, gL, bL)"
     ],
     "language": "python",
     "metadata": {},
     "outputs": []
    },
    {
     "cell_type": "markdown",
     "metadata": {},
     "source": [
      "After we saved the color componenet to file, we no longer have to run the above codes to get those values. We can get them from the local text file."
     ]
    },
    {
     "cell_type": "code",
     "collapsed": false,
     "input": [
      "def readFromFile(fileName):\n",
      "    l =numpy.loadtxt(fileName)\n",
      "    return l[0], l[1], l[2]\n",
      "rL, gL, bL = readFromFile('a.txt')"
     ],
     "language": "python",
     "metadata": {},
     "outputs": [],
     "prompt_number": 26
    },
    {
     "cell_type": "markdown",
     "metadata": {},
     "source": [
      "We create the corresponding list of time coordinate to each pixel by summing the so far 1/fps"
     ]
    },
    {
     "cell_type": "code",
     "collapsed": false,
     "input": [
      "def constructTimeList(numOfElement, deltaTime):\n",
      "    l = list()\n",
      "    l.append(0)\n",
      "    for i in range(1, numOfElement):\n",
      "        l.append(l[i-1]+deltaTime)\n",
      "    return l\n",
      "tL = constructTimeList(len(rL), 1/fps)"
     ],
     "language": "python",
     "metadata": {},
     "outputs": [],
     "prompt_number": 27
    },
    {
     "cell_type": "markdown",
     "metadata": {},
     "source": [
      "We now plot the data for red."
     ]
    },
    {
     "cell_type": "code",
     "collapsed": false,
     "input": [
      "def plot(inVarList, deVarList, inVarName, deVarName):\n",
      "    plt.plot(inVarList, deVarList)\n",
      "    plt.xlabel(inVarName)\n",
      "    plt.ylabel(deVarName)\n",
      "    plt.title(inVarName+' vs '+deVarName)\n",
      "    plt.show()\n",
      "plot(tL, rL, 'Time(s)', 'red')"
     ],
     "language": "python",
     "metadata": {},
     "outputs": [
      {
       "metadata": {},
       "output_type": "display_data",
       "png": "[encoded data removed]",
       "text": [
        "<matplotlib.figure.Figure at 0x7fd898b16410>"
       ]
      }
     ],
     "prompt_number": 28
    },
    {
     "cell_type": "markdown",
     "metadata": {},
     "source": [
      "For green."
     ]
    },
    {
     "cell_type": "code",
     "collapsed": false,
     "input": [
      "plot(tL, gL, 'Time(s)', 'green')"
     ],
     "language": "python",
     "metadata": {},
     "outputs": [
      {
       "metadata": {},
       "output_type": "display_data",
       "png": "[encoded data removed]",
       "text": [
        "<matplotlib.figure.Figure at 0x7fd898b16150>"
       ]
      }
     ],
     "prompt_number": 29
    },
    {
     "cell_type": "markdown",
     "metadata": {},
     "source": [
      "For blue"
     ]
    },
    {
     "cell_type": "code",
     "collapsed": false,
     "input": [
      "plot(tL, bL, 'Time(s)', 'blue')"
     ],
     "language": "python",
     "metadata": {},
     "outputs": [
      {
       "metadata": {},
       "output_type": "display_data",
       "png": "[encoded data removed]",
       "text": [
        "<matplotlib.figure.Figure at 0x7fd898a12850>"
       ]
      }
     ],
     "prompt_number": 30
    },
    {
     "cell_type": "heading",
     "level": 2,
     "metadata": {},
     "source": [
      "The second video."
     ]
    },
    {
     "cell_type": "markdown",
     "metadata": {},
     "source": [
      "We do the same thing as the first one."
     ]
    },
    {
     "cell_type": "code",
     "collapsed": false,
     "input": [
      "video = cv2.VideoCapture('b.mp4')\n",
      "ret, frame = video.read()\n",
      "width = int(video.get(3))\n",
      "height = int(video.get(4))\n",
      "fps = video.get(5)\n",
      "vLen = int(video.get(7))/fps\n",
      "print 'Video Width: ', width, 'px'\n",
      "print 'Video Height: ', height, 'px'\n",
      "print 'Video FPS: ', fps, 'frame per second'\n",
      "print 'Video Length: ', vLen, 's'\n",
      "rL = list()\n",
      "gL = list()\n",
      "bL = list()\n",
      "while True:\n",
      "    hasFrame, r, g, b = readFrame()\n",
      "    if not hasFrame:\n",
      "        break\n",
      "    else:\n",
      "        rL.append(r)\n",
      "        gL.append(g)\n",
      "        bL.append(b)\n",
      "        print(r, g, b)\n",
      "writeToFile('b.txt', rL, gL, bL)"
     ],
     "language": "python",
     "metadata": {},
     "outputs": []
    },
    {
     "cell_type": "markdown",
     "metadata": {},
     "source": [
      "We write and read to local file again. Now we plot again for red."
     ]
    },
    {
     "cell_type": "code",
     "collapsed": false,
     "input": [
      "rL, gL, bL = readFromFile('b.txt')\n",
      "tL = constructTimeList(len(rL), 1/fps)\n",
      "plot(tL, rL, 'Time(ms)', 'red')"
     ],
     "language": "python",
     "metadata": {},
     "outputs": []
    },
    {
     "cell_type": "markdown",
     "metadata": {},
     "source": [
      "For green."
     ]
    },
    {
     "cell_type": "code",
     "collapsed": false,
     "input": [
      "plot(tL, gL, 'Time(ms)', 'green')"
     ],
     "language": "python",
     "metadata": {},
     "outputs": []
    },
    {
     "cell_type": "markdown",
     "metadata": {},
     "source": [
      "For blue."
     ]
    },
    {
     "cell_type": "code",
     "collapsed": false,
     "input": [
      "plot(tL, bL, 'Time(ms)', 'blue')"
     ],
     "language": "python",
     "metadata": {},
     "outputs": []
    },
    {
     "cell_type": "code",
     "collapsed": false,
     "input": [
      "len(rL)"
     ],
     "language": "python",
     "metadata": {},
     "outputs": []
    },
    {
     "cell_type": "code",
     "collapsed": false,
     "input": [],
     "language": "python",
     "metadata": {},
     "outputs": []
    }
   ],
   "metadata": {}
  }
 ]
}